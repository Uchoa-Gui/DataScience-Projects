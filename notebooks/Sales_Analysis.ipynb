{
  "nbformat": 4,
  "nbformat_minor": 0,
  "metadata": {
    "colab": {
      "name": "Sales_Analysis.ipynb",
      "provenance": [],
      "collapsed_sections": []
    },
    "kernelspec": {
      "name": "python3",
      "display_name": "Python 3"
    },
    "language_info": {
      "name": "python"
    }
  },
  "cells": [
    {
      "cell_type": "code",
      "execution_count": 1,
      "metadata": {
        "id": "hOnLvwZ9-0nU"
      },
      "outputs": [],
      "source": [
        "import pandas as pd\n",
        "import seaborn as sns\n",
        "import matplotlib.pyplot as plt"
      ]
    },
    {
      "cell_type": "code",
      "source": [
        "df_january = pd.read_csv('Sales_January_2019.csv')\n",
        "df_february = pd.read_csv('Sales_February_2019.csv')\n",
        "df_march = pd.read_csv('Sales_March_2019.csv')\n",
        "df_may = pd.read_csv('Sales_May_2019.csv')\n",
        "df_april = pd.read_csv('Sales_April_2019.csv')\n",
        "df_june = pd.read_csv('Sales_June_2019.csv')\n",
        "df_july = pd.read_csv('Sales_July_2019.csv')\n",
        "df_august = pd.read_csv('Sales_August_2019.csv')\n",
        "df_october = pd.read_csv('Sales_October_2019.csv')\n",
        "df_september = pd.read_csv('Sales_September_2019.csv')\n",
        "df_november = pd.read_csv('Sales_November_2019.csv')\n",
        "df_december = pd.read_csv('Sales_December_2019.csv')"
      ],
      "metadata": {
        "id": "CGAs6H-9_Ouj"
      },
      "execution_count": null,
      "outputs": []
    },
    {
      "cell_type": "code",
      "source": [
        "df_january.head()"
      ],
      "metadata": {
        "id": "8bibVwMw_YJE"
      },
      "execution_count": null,
      "outputs": []
    },
    {
      "cell_type": "code",
      "source": [
        "df_september.head()"
      ],
      "metadata": {
        "id": "nHCYHPctACwo"
      },
      "execution_count": null,
      "outputs": []
    },
    {
      "cell_type": "code",
      "source": [
        "#Concatenating \n",
        "lista = [df_january, df_february, df_march, df_april, df_may,\n",
        "         df_june, df_july, df_august, df_october, df_september,\n",
        "         df_november, df_december]\n",
        "\n",
        "df_concat = pd.DataFrame()\n",
        "for i in range(len(lista)):\n",
        "  df_concat = pd.concat([df_concat, lista[i]], axis=0)"
      ],
      "metadata": {
        "id": "cmNcVs2nAEi4"
      },
      "execution_count": null,
      "outputs": []
    },
    {
      "cell_type": "code",
      "source": [
        "df_concat.shape"
      ],
      "metadata": {
        "id": "jUe99V3lAqhY"
      },
      "execution_count": null,
      "outputs": []
    },
    {
      "cell_type": "code",
      "source": [
        "import os\n",
        "files = [file for file in os.listdir()]\n",
        "files"
      ],
      "metadata": {
        "id": "1F8TP_SXBx0T"
      },
      "execution_count": null,
      "outputs": []
    },
    {
      "cell_type": "code",
      "source": [
        "#Pior jeito possível\n",
        "removal = ['.config', 'sample_data']\n",
        "files.remove(removal[0])\n",
        "files.remove(removal[1])"
      ],
      "metadata": {
        "id": "ec68kq-DDFRf"
      },
      "execution_count": null,
      "outputs": []
    },
    {
      "cell_type": "code",
      "source": [
        "df_all_months = pd.DataFrame()\n",
        "for file in files:\n",
        "  df = pd.read_csv(file)\n",
        "  df_all_months = pd.concat([df_all_months, df])"
      ],
      "metadata": {
        "id": "y9goLxxmDiG6"
      },
      "execution_count": null,
      "outputs": []
    },
    {
      "cell_type": "code",
      "source": [
        "df_all_months.to_csv('all_data.csv')"
      ],
      "metadata": {
        "id": "vk1azT3QG6mq"
      },
      "execution_count": null,
      "outputs": []
    },
    {
      "cell_type": "code",
      "source": [
        "df = pd.read_csv('all_data.csv')"
      ],
      "metadata": {
        "id": "E0jIqYkkHBc3"
      },
      "execution_count": 138,
      "outputs": []
    },
    {
      "cell_type": "markdown",
      "source": [
        "## Task 1\n",
        "What was the best month for sales? How much was earned that month?"
      ],
      "metadata": {
        "id": "GlpLBswSGbi5"
      }
    },
    {
      "cell_type": "markdown",
      "source": [
        "First we gotta do some data cleaning before creating a new column"
      ],
      "metadata": {
        "id": "p1g-AXoMNwU7"
      }
    },
    {
      "cell_type": "code",
      "source": [
        "df.head()"
      ],
      "metadata": {
        "colab": {
          "base_uri": "https://localhost:8080/",
          "height": 206
        },
        "id": "IX-UIAXHF8H9",
        "outputId": "a954bdfc-3d28-4a9d-a60c-8af5ed0e9404"
      },
      "execution_count": 116,
      "outputs": [
        {
          "output_type": "execute_result",
          "data": {
            "text/html": [
              "<div>\n",
              "<style scoped>\n",
              "    .dataframe tbody tr th:only-of-type {\n",
              "        vertical-align: middle;\n",
              "    }\n",
              "\n",
              "    .dataframe tbody tr th {\n",
              "        vertical-align: top;\n",
              "    }\n",
              "\n",
              "    .dataframe thead th {\n",
              "        text-align: right;\n",
              "    }\n",
              "</style>\n",
              "<table border=\"1\" class=\"dataframe\">\n",
              "  <thead>\n",
              "    <tr style=\"text-align: right;\">\n",
              "      <th></th>\n",
              "      <th>Unnamed: 0</th>\n",
              "      <th>Order ID</th>\n",
              "      <th>Product</th>\n",
              "      <th>Quantity Ordered</th>\n",
              "      <th>Price Each</th>\n",
              "      <th>Order Date</th>\n",
              "      <th>Purchase Address</th>\n",
              "    </tr>\n",
              "  </thead>\n",
              "  <tbody>\n",
              "    <tr>\n",
              "      <th>0</th>\n",
              "      <td>0</td>\n",
              "      <td>295665</td>\n",
              "      <td>Macbook Pro Laptop</td>\n",
              "      <td>1</td>\n",
              "      <td>1700</td>\n",
              "      <td>12/30/19 00:01</td>\n",
              "      <td>136 Church St, New York City, NY 10001</td>\n",
              "    </tr>\n",
              "    <tr>\n",
              "      <th>1</th>\n",
              "      <td>1</td>\n",
              "      <td>295666</td>\n",
              "      <td>LG Washing Machine</td>\n",
              "      <td>1</td>\n",
              "      <td>600.0</td>\n",
              "      <td>12/29/19 07:03</td>\n",
              "      <td>562 2nd St, New York City, NY 10001</td>\n",
              "    </tr>\n",
              "    <tr>\n",
              "      <th>2</th>\n",
              "      <td>2</td>\n",
              "      <td>295667</td>\n",
              "      <td>USB-C Charging Cable</td>\n",
              "      <td>1</td>\n",
              "      <td>11.95</td>\n",
              "      <td>12/12/19 18:21</td>\n",
              "      <td>277 Main St, New York City, NY 10001</td>\n",
              "    </tr>\n",
              "    <tr>\n",
              "      <th>3</th>\n",
              "      <td>3</td>\n",
              "      <td>295668</td>\n",
              "      <td>27in FHD Monitor</td>\n",
              "      <td>1</td>\n",
              "      <td>149.99</td>\n",
              "      <td>12/22/19 15:13</td>\n",
              "      <td>410 6th St, San Francisco, CA 94016</td>\n",
              "    </tr>\n",
              "    <tr>\n",
              "      <th>4</th>\n",
              "      <td>4</td>\n",
              "      <td>295669</td>\n",
              "      <td>USB-C Charging Cable</td>\n",
              "      <td>1</td>\n",
              "      <td>11.95</td>\n",
              "      <td>12/18/19 12:38</td>\n",
              "      <td>43 Hill St, Atlanta, GA 30301</td>\n",
              "    </tr>\n",
              "  </tbody>\n",
              "</table>\n",
              "</div>"
            ],
            "text/plain": [
              "   Unnamed: 0 Order ID  ...      Order Date                        Purchase Address\n",
              "0           0   295665  ...  12/30/19 00:01  136 Church St, New York City, NY 10001\n",
              "1           1   295666  ...  12/29/19 07:03     562 2nd St, New York City, NY 10001\n",
              "2           2   295667  ...  12/12/19 18:21    277 Main St, New York City, NY 10001\n",
              "3           3   295668  ...  12/22/19 15:13     410 6th St, San Francisco, CA 94016\n",
              "4           4   295669  ...  12/18/19 12:38           43 Hill St, Atlanta, GA 30301\n",
              "\n",
              "[5 rows x 7 columns]"
            ]
          },
          "metadata": {},
          "execution_count": 116
        }
      ]
    },
    {
      "cell_type": "code",
      "source": [
        "df.info()"
      ],
      "metadata": {
        "colab": {
          "base_uri": "https://localhost:8080/"
        },
        "id": "WI6pxCJLNhB5",
        "outputId": "add1c83f-86cc-47cc-b882-5117830a30ab"
      },
      "execution_count": 117,
      "outputs": [
        {
          "output_type": "stream",
          "name": "stdout",
          "text": [
            "<class 'pandas.core.frame.DataFrame'>\n",
            "RangeIndex: 186850 entries, 0 to 186849\n",
            "Data columns (total 7 columns):\n",
            " #   Column            Non-Null Count   Dtype \n",
            "---  ------            --------------   ----- \n",
            " 0   Unnamed: 0        186850 non-null  int64 \n",
            " 1   Order ID          186305 non-null  object\n",
            " 2   Product           186305 non-null  object\n",
            " 3   Quantity Ordered  186305 non-null  object\n",
            " 4   Price Each        186305 non-null  object\n",
            " 5   Order Date        186305 non-null  object\n",
            " 6   Purchase Address  186305 non-null  object\n",
            "dtypes: int64(1), object(6)\n",
            "memory usage: 10.0+ MB\n"
          ]
        }
      ]
    },
    {
      "cell_type": "code",
      "source": [
        "index = df[df['Order Date'] == 'Order Date'].index"
      ],
      "metadata": {
        "id": "lPb8RohYJYtm"
      },
      "execution_count": 139,
      "outputs": []
    },
    {
      "cell_type": "code",
      "source": [
        "df.drop(index=index, axis=0, inplace=True)"
      ],
      "metadata": {
        "id": "4DT1_QzaNyej"
      },
      "execution_count": 140,
      "outputs": []
    },
    {
      "cell_type": "code",
      "source": [
        "df[df['Order Date'] == 'Order Date']"
      ],
      "metadata": {
        "colab": {
          "base_uri": "https://localhost:8080/",
          "height": 49
        },
        "id": "BwP1Bu-lPWnz",
        "outputId": "d33077ef-5074-430c-c18b-5e936d06274d"
      },
      "execution_count": 141,
      "outputs": [
        {
          "output_type": "execute_result",
          "data": {
            "text/html": [
              "<div>\n",
              "<style scoped>\n",
              "    .dataframe tbody tr th:only-of-type {\n",
              "        vertical-align: middle;\n",
              "    }\n",
              "\n",
              "    .dataframe tbody tr th {\n",
              "        vertical-align: top;\n",
              "    }\n",
              "\n",
              "    .dataframe thead th {\n",
              "        text-align: right;\n",
              "    }\n",
              "</style>\n",
              "<table border=\"1\" class=\"dataframe\">\n",
              "  <thead>\n",
              "    <tr style=\"text-align: right;\">\n",
              "      <th></th>\n",
              "      <th>Unnamed: 0</th>\n",
              "      <th>Order ID</th>\n",
              "      <th>Product</th>\n",
              "      <th>Quantity Ordered</th>\n",
              "      <th>Price Each</th>\n",
              "      <th>Order Date</th>\n",
              "      <th>Purchase Address</th>\n",
              "    </tr>\n",
              "  </thead>\n",
              "  <tbody>\n",
              "  </tbody>\n",
              "</table>\n",
              "</div>"
            ],
            "text/plain": [
              "Empty DataFrame\n",
              "Columns: [Unnamed: 0, Order ID, Product, Quantity Ordered, Price Each, Order Date, Purchase Address]\n",
              "Index: []"
            ]
          },
          "metadata": {},
          "execution_count": 141
        }
      ]
    },
    {
      "cell_type": "code",
      "source": [
        "df['Order Date'] = pd.to_datetime(df['Order Date'], format='%m/%d/%y %H:%M' )"
      ],
      "metadata": {
        "id": "RC6ypCLFHGMO"
      },
      "execution_count": 142,
      "outputs": []
    },
    {
      "cell_type": "code",
      "source": [
        "df.head()"
      ],
      "metadata": {
        "colab": {
          "base_uri": "https://localhost:8080/",
          "height": 206
        },
        "id": "xC9afDMhP3_2",
        "outputId": "5fb0ad18-bc8e-4f5c-e25f-7a4cdfaa2148"
      },
      "execution_count": 122,
      "outputs": [
        {
          "output_type": "execute_result",
          "data": {
            "text/html": [
              "<div>\n",
              "<style scoped>\n",
              "    .dataframe tbody tr th:only-of-type {\n",
              "        vertical-align: middle;\n",
              "    }\n",
              "\n",
              "    .dataframe tbody tr th {\n",
              "        vertical-align: top;\n",
              "    }\n",
              "\n",
              "    .dataframe thead th {\n",
              "        text-align: right;\n",
              "    }\n",
              "</style>\n",
              "<table border=\"1\" class=\"dataframe\">\n",
              "  <thead>\n",
              "    <tr style=\"text-align: right;\">\n",
              "      <th></th>\n",
              "      <th>Unnamed: 0</th>\n",
              "      <th>Order ID</th>\n",
              "      <th>Product</th>\n",
              "      <th>Quantity Ordered</th>\n",
              "      <th>Price Each</th>\n",
              "      <th>Order Date</th>\n",
              "      <th>Purchase Address</th>\n",
              "    </tr>\n",
              "  </thead>\n",
              "  <tbody>\n",
              "    <tr>\n",
              "      <th>0</th>\n",
              "      <td>0</td>\n",
              "      <td>295665</td>\n",
              "      <td>Macbook Pro Laptop</td>\n",
              "      <td>1</td>\n",
              "      <td>1700</td>\n",
              "      <td>2019-12-30 00:01:00</td>\n",
              "      <td>136 Church St, New York City, NY 10001</td>\n",
              "    </tr>\n",
              "    <tr>\n",
              "      <th>1</th>\n",
              "      <td>1</td>\n",
              "      <td>295666</td>\n",
              "      <td>LG Washing Machine</td>\n",
              "      <td>1</td>\n",
              "      <td>600.0</td>\n",
              "      <td>2019-12-29 07:03:00</td>\n",
              "      <td>562 2nd St, New York City, NY 10001</td>\n",
              "    </tr>\n",
              "    <tr>\n",
              "      <th>2</th>\n",
              "      <td>2</td>\n",
              "      <td>295667</td>\n",
              "      <td>USB-C Charging Cable</td>\n",
              "      <td>1</td>\n",
              "      <td>11.95</td>\n",
              "      <td>2019-12-12 18:21:00</td>\n",
              "      <td>277 Main St, New York City, NY 10001</td>\n",
              "    </tr>\n",
              "    <tr>\n",
              "      <th>3</th>\n",
              "      <td>3</td>\n",
              "      <td>295668</td>\n",
              "      <td>27in FHD Monitor</td>\n",
              "      <td>1</td>\n",
              "      <td>149.99</td>\n",
              "      <td>2019-12-22 15:13:00</td>\n",
              "      <td>410 6th St, San Francisco, CA 94016</td>\n",
              "    </tr>\n",
              "    <tr>\n",
              "      <th>4</th>\n",
              "      <td>4</td>\n",
              "      <td>295669</td>\n",
              "      <td>USB-C Charging Cable</td>\n",
              "      <td>1</td>\n",
              "      <td>11.95</td>\n",
              "      <td>2019-12-18 12:38:00</td>\n",
              "      <td>43 Hill St, Atlanta, GA 30301</td>\n",
              "    </tr>\n",
              "  </tbody>\n",
              "</table>\n",
              "</div>"
            ],
            "text/plain": [
              "   Unnamed: 0  ...                        Purchase Address\n",
              "0           0  ...  136 Church St, New York City, NY 10001\n",
              "1           1  ...     562 2nd St, New York City, NY 10001\n",
              "2           2  ...    277 Main St, New York City, NY 10001\n",
              "3           3  ...     410 6th St, San Francisco, CA 94016\n",
              "4           4  ...           43 Hill St, Atlanta, GA 30301\n",
              "\n",
              "[5 rows x 7 columns]"
            ]
          },
          "metadata": {},
          "execution_count": 122
        }
      ]
    },
    {
      "cell_type": "code",
      "source": [
        "df.info()"
      ],
      "metadata": {
        "colab": {
          "base_uri": "https://localhost:8080/"
        },
        "id": "SE7cZtLiPRp8",
        "outputId": "752cc08b-313a-4040-f42f-5ac9b6705418"
      },
      "execution_count": 123,
      "outputs": [
        {
          "output_type": "stream",
          "name": "stdout",
          "text": [
            "<class 'pandas.core.frame.DataFrame'>\n",
            "Int64Index: 186495 entries, 0 to 186849\n",
            "Data columns (total 7 columns):\n",
            " #   Column            Non-Null Count   Dtype         \n",
            "---  ------            --------------   -----         \n",
            " 0   Unnamed: 0        186495 non-null  int64         \n",
            " 1   Order ID          185950 non-null  object        \n",
            " 2   Product           185950 non-null  object        \n",
            " 3   Quantity Ordered  185950 non-null  object        \n",
            " 4   Price Each        185950 non-null  object        \n",
            " 5   Order Date        185950 non-null  datetime64[ns]\n",
            " 6   Purchase Address  185950 non-null  object        \n",
            "dtypes: datetime64[ns](1), int64(1), object(5)\n",
            "memory usage: 11.4+ MB\n"
          ]
        }
      ]
    },
    {
      "cell_type": "code",
      "source": [
        "#Adding a new month column\n",
        "df['month'] = df['Order Date'].dt.month"
      ],
      "metadata": {
        "id": "t3JEXttUPnzN"
      },
      "execution_count": 143,
      "outputs": []
    },
    {
      "cell_type": "code",
      "source": [
        "df.head(3)"
      ],
      "metadata": {
        "colab": {
          "base_uri": "https://localhost:8080/",
          "height": 143
        },
        "id": "hHcvw1H6QzrE",
        "outputId": "483e43dd-6eb1-46cc-bbdd-c7f36ecf7a01"
      },
      "execution_count": 125,
      "outputs": [
        {
          "output_type": "execute_result",
          "data": {
            "text/html": [
              "<div>\n",
              "<style scoped>\n",
              "    .dataframe tbody tr th:only-of-type {\n",
              "        vertical-align: middle;\n",
              "    }\n",
              "\n",
              "    .dataframe tbody tr th {\n",
              "        vertical-align: top;\n",
              "    }\n",
              "\n",
              "    .dataframe thead th {\n",
              "        text-align: right;\n",
              "    }\n",
              "</style>\n",
              "<table border=\"1\" class=\"dataframe\">\n",
              "  <thead>\n",
              "    <tr style=\"text-align: right;\">\n",
              "      <th></th>\n",
              "      <th>Unnamed: 0</th>\n",
              "      <th>Order ID</th>\n",
              "      <th>Product</th>\n",
              "      <th>Quantity Ordered</th>\n",
              "      <th>Price Each</th>\n",
              "      <th>Order Date</th>\n",
              "      <th>Purchase Address</th>\n",
              "      <th>month</th>\n",
              "    </tr>\n",
              "  </thead>\n",
              "  <tbody>\n",
              "    <tr>\n",
              "      <th>0</th>\n",
              "      <td>0</td>\n",
              "      <td>295665</td>\n",
              "      <td>Macbook Pro Laptop</td>\n",
              "      <td>1</td>\n",
              "      <td>1700</td>\n",
              "      <td>2019-12-30 00:01:00</td>\n",
              "      <td>136 Church St, New York City, NY 10001</td>\n",
              "      <td>12.0</td>\n",
              "    </tr>\n",
              "    <tr>\n",
              "      <th>1</th>\n",
              "      <td>1</td>\n",
              "      <td>295666</td>\n",
              "      <td>LG Washing Machine</td>\n",
              "      <td>1</td>\n",
              "      <td>600.0</td>\n",
              "      <td>2019-12-29 07:03:00</td>\n",
              "      <td>562 2nd St, New York City, NY 10001</td>\n",
              "      <td>12.0</td>\n",
              "    </tr>\n",
              "    <tr>\n",
              "      <th>2</th>\n",
              "      <td>2</td>\n",
              "      <td>295667</td>\n",
              "      <td>USB-C Charging Cable</td>\n",
              "      <td>1</td>\n",
              "      <td>11.95</td>\n",
              "      <td>2019-12-12 18:21:00</td>\n",
              "      <td>277 Main St, New York City, NY 10001</td>\n",
              "      <td>12.0</td>\n",
              "    </tr>\n",
              "  </tbody>\n",
              "</table>\n",
              "</div>"
            ],
            "text/plain": [
              "   Unnamed: 0 Order ID  ...                        Purchase Address month\n",
              "0           0   295665  ...  136 Church St, New York City, NY 10001  12.0\n",
              "1           1   295666  ...     562 2nd St, New York City, NY 10001  12.0\n",
              "2           2   295667  ...    277 Main St, New York City, NY 10001  12.0\n",
              "\n",
              "[3 rows x 8 columns]"
            ]
          },
          "metadata": {},
          "execution_count": 125
        }
      ]
    },
    {
      "cell_type": "code",
      "source": [
        "df.drop('Unnamed: 0', axis=1, inplace=True)"
      ],
      "metadata": {
        "id": "yxTwsYFmRjba"
      },
      "execution_count": 144,
      "outputs": []
    },
    {
      "cell_type": "code",
      "source": [
        "df['Price Each'] = df['Price Each'].astype(float)\n",
        "df['Quantity Ordered'] = df['Quantity Ordered'].astype(float)"
      ],
      "metadata": {
        "id": "59PT-MG-Rogc"
      },
      "execution_count": 145,
      "outputs": []
    },
    {
      "cell_type": "code",
      "source": [
        "df['sales'] = df['Price Each'] * df['Quantity Ordered']\n",
        "df.head(10)"
      ],
      "metadata": {
        "colab": {
          "base_uri": "https://localhost:8080/",
          "height": 363
        },
        "id": "1Kt7DBpH6zjg",
        "outputId": "80d19470-3af2-486b-c9b6-5c797ed2214a"
      },
      "execution_count": 146,
      "outputs": [
        {
          "output_type": "execute_result",
          "data": {
            "text/html": [
              "<div>\n",
              "<style scoped>\n",
              "    .dataframe tbody tr th:only-of-type {\n",
              "        vertical-align: middle;\n",
              "    }\n",
              "\n",
              "    .dataframe tbody tr th {\n",
              "        vertical-align: top;\n",
              "    }\n",
              "\n",
              "    .dataframe thead th {\n",
              "        text-align: right;\n",
              "    }\n",
              "</style>\n",
              "<table border=\"1\" class=\"dataframe\">\n",
              "  <thead>\n",
              "    <tr style=\"text-align: right;\">\n",
              "      <th></th>\n",
              "      <th>Order ID</th>\n",
              "      <th>Product</th>\n",
              "      <th>Quantity Ordered</th>\n",
              "      <th>Price Each</th>\n",
              "      <th>Order Date</th>\n",
              "      <th>Purchase Address</th>\n",
              "      <th>month</th>\n",
              "      <th>sales</th>\n",
              "    </tr>\n",
              "  </thead>\n",
              "  <tbody>\n",
              "    <tr>\n",
              "      <th>0</th>\n",
              "      <td>295665</td>\n",
              "      <td>Macbook Pro Laptop</td>\n",
              "      <td>1.0</td>\n",
              "      <td>1700.00</td>\n",
              "      <td>2019-12-30 00:01:00</td>\n",
              "      <td>136 Church St, New York City, NY 10001</td>\n",
              "      <td>12.0</td>\n",
              "      <td>1700.00</td>\n",
              "    </tr>\n",
              "    <tr>\n",
              "      <th>1</th>\n",
              "      <td>295666</td>\n",
              "      <td>LG Washing Machine</td>\n",
              "      <td>1.0</td>\n",
              "      <td>600.00</td>\n",
              "      <td>2019-12-29 07:03:00</td>\n",
              "      <td>562 2nd St, New York City, NY 10001</td>\n",
              "      <td>12.0</td>\n",
              "      <td>600.00</td>\n",
              "    </tr>\n",
              "    <tr>\n",
              "      <th>2</th>\n",
              "      <td>295667</td>\n",
              "      <td>USB-C Charging Cable</td>\n",
              "      <td>1.0</td>\n",
              "      <td>11.95</td>\n",
              "      <td>2019-12-12 18:21:00</td>\n",
              "      <td>277 Main St, New York City, NY 10001</td>\n",
              "      <td>12.0</td>\n",
              "      <td>11.95</td>\n",
              "    </tr>\n",
              "    <tr>\n",
              "      <th>3</th>\n",
              "      <td>295668</td>\n",
              "      <td>27in FHD Monitor</td>\n",
              "      <td>1.0</td>\n",
              "      <td>149.99</td>\n",
              "      <td>2019-12-22 15:13:00</td>\n",
              "      <td>410 6th St, San Francisco, CA 94016</td>\n",
              "      <td>12.0</td>\n",
              "      <td>149.99</td>\n",
              "    </tr>\n",
              "    <tr>\n",
              "      <th>4</th>\n",
              "      <td>295669</td>\n",
              "      <td>USB-C Charging Cable</td>\n",
              "      <td>1.0</td>\n",
              "      <td>11.95</td>\n",
              "      <td>2019-12-18 12:38:00</td>\n",
              "      <td>43 Hill St, Atlanta, GA 30301</td>\n",
              "      <td>12.0</td>\n",
              "      <td>11.95</td>\n",
              "    </tr>\n",
              "    <tr>\n",
              "      <th>5</th>\n",
              "      <td>295670</td>\n",
              "      <td>AA Batteries (4-pack)</td>\n",
              "      <td>1.0</td>\n",
              "      <td>3.84</td>\n",
              "      <td>2019-12-31 22:58:00</td>\n",
              "      <td>200 Jefferson St, New York City, NY 10001</td>\n",
              "      <td>12.0</td>\n",
              "      <td>3.84</td>\n",
              "    </tr>\n",
              "    <tr>\n",
              "      <th>6</th>\n",
              "      <td>295671</td>\n",
              "      <td>USB-C Charging Cable</td>\n",
              "      <td>1.0</td>\n",
              "      <td>11.95</td>\n",
              "      <td>2019-12-16 15:10:00</td>\n",
              "      <td>928 12th St, Portland, OR 97035</td>\n",
              "      <td>12.0</td>\n",
              "      <td>11.95</td>\n",
              "    </tr>\n",
              "    <tr>\n",
              "      <th>7</th>\n",
              "      <td>295672</td>\n",
              "      <td>USB-C Charging Cable</td>\n",
              "      <td>2.0</td>\n",
              "      <td>11.95</td>\n",
              "      <td>2019-12-13 09:29:00</td>\n",
              "      <td>813 Hickory St, Dallas, TX 75001</td>\n",
              "      <td>12.0</td>\n",
              "      <td>23.90</td>\n",
              "    </tr>\n",
              "    <tr>\n",
              "      <th>8</th>\n",
              "      <td>295673</td>\n",
              "      <td>Bose SoundSport Headphones</td>\n",
              "      <td>1.0</td>\n",
              "      <td>99.99</td>\n",
              "      <td>2019-12-15 23:26:00</td>\n",
              "      <td>718 Wilson St, Dallas, TX 75001</td>\n",
              "      <td>12.0</td>\n",
              "      <td>99.99</td>\n",
              "    </tr>\n",
              "    <tr>\n",
              "      <th>9</th>\n",
              "      <td>295674</td>\n",
              "      <td>AAA Batteries (4-pack)</td>\n",
              "      <td>4.0</td>\n",
              "      <td>2.99</td>\n",
              "      <td>2019-12-28 11:51:00</td>\n",
              "      <td>77 7th St, Dallas, TX 75001</td>\n",
              "      <td>12.0</td>\n",
              "      <td>11.96</td>\n",
              "    </tr>\n",
              "  </tbody>\n",
              "</table>\n",
              "</div>"
            ],
            "text/plain": [
              "  Order ID                     Product  ...  month    sales\n",
              "0   295665          Macbook Pro Laptop  ...   12.0  1700.00\n",
              "1   295666          LG Washing Machine  ...   12.0   600.00\n",
              "2   295667        USB-C Charging Cable  ...   12.0    11.95\n",
              "3   295668            27in FHD Monitor  ...   12.0   149.99\n",
              "4   295669        USB-C Charging Cable  ...   12.0    11.95\n",
              "5   295670       AA Batteries (4-pack)  ...   12.0     3.84\n",
              "6   295671        USB-C Charging Cable  ...   12.0    11.95\n",
              "7   295672        USB-C Charging Cable  ...   12.0    23.90\n",
              "8   295673  Bose SoundSport Headphones  ...   12.0    99.99\n",
              "9   295674      AAA Batteries (4-pack)  ...   12.0    11.96\n",
              "\n",
              "[10 rows x 8 columns]"
            ]
          },
          "metadata": {},
          "execution_count": 146
        }
      ]
    },
    {
      "cell_type": "code",
      "source": [
        "#Now let's try to solve the first task\n",
        "#First we need the value of total sales of each month\n",
        "sales_per_month = df.groupby('month').sum()\n",
        "\n",
        "plt.figure(figsize=(10,6))\n",
        "sns.barplot(x = sales_per_month.index, y=sales_per_month['sales'], palette='flare')\n",
        "plt.ylabel('Total Sales')\n",
        "plt.xlabel('Month')\n",
        "plt.grid(axis='y')"
      ],
      "metadata": {
        "colab": {
          "base_uri": "https://localhost:8080/",
          "height": 399
        },
        "id": "vmcXOUoVP0tL",
        "outputId": "c1f5db5f-745b-4cd2-9c9d-88f9e974ea2d"
      },
      "execution_count": 129,
      "outputs": [
        {
          "output_type": "display_data",
          "data": {
            "image/png": "[encoded data removed]",
            "text/plain": [
              "<Figure size 720x432 with 1 Axes>"
            ]
          },
          "metadata": {
            "needs_background": "light"
          }
        }
      ]
    },
    {
      "cell_type": "code",
      "source": [
        "#Data Frame to visualize the difference between values\n",
        "df_sales = pd.DataFrame({'Total Sales': sales_per_month['sales']})\n",
        "\n",
        "df_sales.sort_values('Total Sales', ascending=False)"
      ],
      "metadata": {
        "colab": {
          "base_uri": "https://localhost:8080/",
          "height": 457
        },
        "id": "O6mz3duAQt0U",
        "outputId": "38590770-a76a-42a8-e97f-102716abeaca"
      },
      "execution_count": 130,
      "outputs": [
        {
          "output_type": "execute_result",
          "data": {
            "text/html": [
              "<div>\n",
              "<style scoped>\n",
              "    .dataframe tbody tr th:only-of-type {\n",
              "        vertical-align: middle;\n",
              "    }\n",
              "\n",
              "    .dataframe tbody tr th {\n",
              "        vertical-align: top;\n",
              "    }\n",
              "\n",
              "    .dataframe thead th {\n",
              "        text-align: right;\n",
              "    }\n",
              "</style>\n",
              "<table border=\"1\" class=\"dataframe\">\n",
              "  <thead>\n",
              "    <tr style=\"text-align: right;\">\n",
              "      <th></th>\n",
              "      <th>Total Sales</th>\n",
              "    </tr>\n",
              "    <tr>\n",
              "      <th>month</th>\n",
              "      <th></th>\n",
              "    </tr>\n",
              "  </thead>\n",
              "  <tbody>\n",
              "    <tr>\n",
              "      <th>12.0</th>\n",
              "      <td>4.613443e+06</td>\n",
              "    </tr>\n",
              "    <tr>\n",
              "      <th>10.0</th>\n",
              "      <td>3.736727e+06</td>\n",
              "    </tr>\n",
              "    <tr>\n",
              "      <th>4.0</th>\n",
              "      <td>3.390670e+06</td>\n",
              "    </tr>\n",
              "    <tr>\n",
              "      <th>11.0</th>\n",
              "      <td>3.199603e+06</td>\n",
              "    </tr>\n",
              "    <tr>\n",
              "      <th>5.0</th>\n",
              "      <td>3.152607e+06</td>\n",
              "    </tr>\n",
              "    <tr>\n",
              "      <th>3.0</th>\n",
              "      <td>2.807100e+06</td>\n",
              "    </tr>\n",
              "    <tr>\n",
              "      <th>7.0</th>\n",
              "      <td>2.647776e+06</td>\n",
              "    </tr>\n",
              "    <tr>\n",
              "      <th>6.0</th>\n",
              "      <td>2.577802e+06</td>\n",
              "    </tr>\n",
              "    <tr>\n",
              "      <th>8.0</th>\n",
              "      <td>2.244468e+06</td>\n",
              "    </tr>\n",
              "    <tr>\n",
              "      <th>2.0</th>\n",
              "      <td>2.202022e+06</td>\n",
              "    </tr>\n",
              "    <tr>\n",
              "      <th>9.0</th>\n",
              "      <td>2.097560e+06</td>\n",
              "    </tr>\n",
              "    <tr>\n",
              "      <th>1.0</th>\n",
              "      <td>1.822257e+06</td>\n",
              "    </tr>\n",
              "  </tbody>\n",
              "</table>\n",
              "</div>"
            ],
            "text/plain": [
              "        Total Sales\n",
              "month              \n",
              "12.0   4.613443e+06\n",
              "10.0   3.736727e+06\n",
              "4.0    3.390670e+06\n",
              "11.0   3.199603e+06\n",
              "5.0    3.152607e+06\n",
              "3.0    2.807100e+06\n",
              "7.0    2.647776e+06\n",
              "6.0    2.577802e+06\n",
              "8.0    2.244468e+06\n",
              "2.0    2.202022e+06\n",
              "9.0    2.097560e+06\n",
              "1.0    1.822257e+06"
            ]
          },
          "metadata": {},
          "execution_count": 130
        }
      ]
    },
    {
      "cell_type": "markdown",
      "source": [
        "December and October are the best months. A good insight is to put the best-selling products (will be analysed later on) on sale in those months."
      ],
      "metadata": {
        "id": "wW7oXaTX5WMF"
      }
    },
    {
      "cell_type": "markdown",
      "source": [
        "## Task 2\n",
        "What city sold the most product"
      ],
      "metadata": {
        "id": "1T216sB7VjmF"
      }
    },
    {
      "cell_type": "code",
      "source": [
        "df.head()"
      ],
      "metadata": {
        "colab": {
          "base_uri": "https://localhost:8080/",
          "height": 206
        },
        "id": "oBZY_VTPUh41",
        "outputId": "0862e4db-41ac-4109-cd6d-c18d69b87efb"
      },
      "execution_count": 131,
      "outputs": [
        {
          "output_type": "execute_result",
          "data": {
            "text/html": [
              "<div>\n",
              "<style scoped>\n",
              "    .dataframe tbody tr th:only-of-type {\n",
              "        vertical-align: middle;\n",
              "    }\n",
              "\n",
              "    .dataframe tbody tr th {\n",
              "        vertical-align: top;\n",
              "    }\n",
              "\n",
              "    .dataframe thead th {\n",
              "        text-align: right;\n",
              "    }\n",
              "</style>\n",
              "<table border=\"1\" class=\"dataframe\">\n",
              "  <thead>\n",
              "    <tr style=\"text-align: right;\">\n",
              "      <th></th>\n",
              "      <th>Order ID</th>\n",
              "      <th>Product</th>\n",
              "      <th>Quantity Ordered</th>\n",
              "      <th>Price Each</th>\n",
              "      <th>Order Date</th>\n",
              "      <th>Purchase Address</th>\n",
              "      <th>month</th>\n",
              "      <th>sales</th>\n",
              "    </tr>\n",
              "  </thead>\n",
              "  <tbody>\n",
              "    <tr>\n",
              "      <th>0</th>\n",
              "      <td>295665</td>\n",
              "      <td>Macbook Pro Laptop</td>\n",
              "      <td>1.0</td>\n",
              "      <td>1700.00</td>\n",
              "      <td>2019-12-30 00:01:00</td>\n",
              "      <td>136 Church St, New York City, NY 10001</td>\n",
              "      <td>12.0</td>\n",
              "      <td>1700.00</td>\n",
              "    </tr>\n",
              "    <tr>\n",
              "      <th>1</th>\n",
              "      <td>295666</td>\n",
              "      <td>LG Washing Machine</td>\n",
              "      <td>1.0</td>\n",
              "      <td>600.00</td>\n",
              "      <td>2019-12-29 07:03:00</td>\n",
              "      <td>562 2nd St, New York City, NY 10001</td>\n",
              "      <td>12.0</td>\n",
              "      <td>600.00</td>\n",
              "    </tr>\n",
              "    <tr>\n",
              "      <th>2</th>\n",
              "      <td>295667</td>\n",
              "      <td>USB-C Charging Cable</td>\n",
              "      <td>1.0</td>\n",
              "      <td>11.95</td>\n",
              "      <td>2019-12-12 18:21:00</td>\n",
              "      <td>277 Main St, New York City, NY 10001</td>\n",
              "      <td>12.0</td>\n",
              "      <td>11.95</td>\n",
              "    </tr>\n",
              "    <tr>\n",
              "      <th>3</th>\n",
              "      <td>295668</td>\n",
              "      <td>27in FHD Monitor</td>\n",
              "      <td>1.0</td>\n",
              "      <td>149.99</td>\n",
              "      <td>2019-12-22 15:13:00</td>\n",
              "      <td>410 6th St, San Francisco, CA 94016</td>\n",
              "      <td>12.0</td>\n",
              "      <td>149.99</td>\n",
              "    </tr>\n",
              "    <tr>\n",
              "      <th>4</th>\n",
              "      <td>295669</td>\n",
              "      <td>USB-C Charging Cable</td>\n",
              "      <td>1.0</td>\n",
              "      <td>11.95</td>\n",
              "      <td>2019-12-18 12:38:00</td>\n",
              "      <td>43 Hill St, Atlanta, GA 30301</td>\n",
              "      <td>12.0</td>\n",
              "      <td>11.95</td>\n",
              "    </tr>\n",
              "  </tbody>\n",
              "</table>\n",
              "</div>"
            ],
            "text/plain": [
              "  Order ID               Product  ...  month    sales\n",
              "0   295665    Macbook Pro Laptop  ...   12.0  1700.00\n",
              "1   295666    LG Washing Machine  ...   12.0   600.00\n",
              "2   295667  USB-C Charging Cable  ...   12.0    11.95\n",
              "3   295668      27in FHD Monitor  ...   12.0   149.99\n",
              "4   295669  USB-C Charging Cable  ...   12.0    11.95\n",
              "\n",
              "[5 rows x 8 columns]"
            ]
          },
          "metadata": {},
          "execution_count": 131
        }
      ]
    },
    {
      "cell_type": "code",
      "source": [
        "#Getting the cities and state\n",
        "df['cities'] = df['Purchase Address'].str.split(',').str.get(1) + ' ' + '(' + df['Purchase Address'].str.split(',').str.get(2).str.split(' ').str.get(1) + ')'"
      ],
      "metadata": {
        "id": "yl0XBkpXVnEo"
      },
      "execution_count": 194,
      "outputs": []
    },
    {
      "cell_type": "code",
      "source": [
        "df.head(20)"
      ],
      "metadata": {
        "id": "aUWAHxnBW28a",
        "colab": {
          "base_uri": "https://localhost:8080/",
          "height": 677
        },
        "outputId": "fefc5f98-bdb4-48d0-dfe9-82f7107bf8b4"
      },
      "execution_count": 195,
      "outputs": [
        {
          "output_type": "execute_result",
          "data": {
            "text/html": [
              "<div>\n",
              "<style scoped>\n",
              "    .dataframe tbody tr th:only-of-type {\n",
              "        vertical-align: middle;\n",
              "    }\n",
              "\n",
              "    .dataframe tbody tr th {\n",
              "        vertical-align: top;\n",
              "    }\n",
              "\n",
              "    .dataframe thead th {\n",
              "        text-align: right;\n",
              "    }\n",
              "</style>\n",
              "<table border=\"1\" class=\"dataframe\">\n",
              "  <thead>\n",
              "    <tr style=\"text-align: right;\">\n",
              "      <th></th>\n",
              "      <th>Order ID</th>\n",
              "      <th>Product</th>\n",
              "      <th>Quantity Ordered</th>\n",
              "      <th>Price Each</th>\n",
              "      <th>Order Date</th>\n",
              "      <th>Purchase Address</th>\n",
              "      <th>month</th>\n",
              "      <th>sales</th>\n",
              "      <th>cities</th>\n",
              "    </tr>\n",
              "  </thead>\n",
              "  <tbody>\n",
              "    <tr>\n",
              "      <th>0</th>\n",
              "      <td>295665</td>\n",
              "      <td>Macbook Pro Laptop</td>\n",
              "      <td>1.0</td>\n",
              "      <td>1700.00</td>\n",
              "      <td>2019-12-30 00:01:00</td>\n",
              "      <td>136 Church St, New York City, NY 10001</td>\n",
              "      <td>12.0</td>\n",
              "      <td>1700.00</td>\n",
              "      <td>New York City (NY)</td>\n",
              "    </tr>\n",
              "    <tr>\n",
              "      <th>1</th>\n",
              "      <td>295666</td>\n",
              "      <td>LG Washing Machine</td>\n",
              "      <td>1.0</td>\n",
              "      <td>600.00</td>\n",
              "      <td>2019-12-29 07:03:00</td>\n",
              "      <td>562 2nd St, New York City, NY 10001</td>\n",
              "      <td>12.0</td>\n",
              "      <td>600.00</td>\n",
              "      <td>New York City (NY)</td>\n",
              "    </tr>\n",
              "    <tr>\n",
              "      <th>2</th>\n",
              "      <td>295667</td>\n",
              "      <td>USB-C Charging Cable</td>\n",
              "      <td>1.0</td>\n",
              "      <td>11.95</td>\n",
              "      <td>2019-12-12 18:21:00</td>\n",
              "      <td>277 Main St, New York City, NY 10001</td>\n",
              "      <td>12.0</td>\n",
              "      <td>11.95</td>\n",
              "      <td>New York City (NY)</td>\n",
              "    </tr>\n",
              "    <tr>\n",
              "      <th>3</th>\n",
              "      <td>295668</td>\n",
              "      <td>27in FHD Monitor</td>\n",
              "      <td>1.0</td>\n",
              "      <td>149.99</td>\n",
              "      <td>2019-12-22 15:13:00</td>\n",
              "      <td>410 6th St, San Francisco, CA 94016</td>\n",
              "      <td>12.0</td>\n",
              "      <td>149.99</td>\n",
              "      <td>San Francisco (CA)</td>\n",
              "    </tr>\n",
              "    <tr>\n",
              "      <th>4</th>\n",
              "      <td>295669</td>\n",
              "      <td>USB-C Charging Cable</td>\n",
              "      <td>1.0</td>\n",
              "      <td>11.95</td>\n",
              "      <td>2019-12-18 12:38:00</td>\n",
              "      <td>43 Hill St, Atlanta, GA 30301</td>\n",
              "      <td>12.0</td>\n",
              "      <td>11.95</td>\n",
              "      <td>Atlanta (GA)</td>\n",
              "    </tr>\n",
              "    <tr>\n",
              "      <th>5</th>\n",
              "      <td>295670</td>\n",
              "      <td>AA Batteries (4-pack)</td>\n",
              "      <td>1.0</td>\n",
              "      <td>3.84</td>\n",
              "      <td>2019-12-31 22:58:00</td>\n",
              "      <td>200 Jefferson St, New York City, NY 10001</td>\n",
              "      <td>12.0</td>\n",
              "      <td>3.84</td>\n",
              "      <td>New York City (NY)</td>\n",
              "    </tr>\n",
              "    <tr>\n",
              "      <th>6</th>\n",
              "      <td>295671</td>\n",
              "      <td>USB-C Charging Cable</td>\n",
              "      <td>1.0</td>\n",
              "      <td>11.95</td>\n",
              "      <td>2019-12-16 15:10:00</td>\n",
              "      <td>928 12th St, Portland, OR 97035</td>\n",
              "      <td>12.0</td>\n",
              "      <td>11.95</td>\n",
              "      <td>Portland (OR)</td>\n",
              "    </tr>\n",
              "    <tr>\n",
              "      <th>7</th>\n",
              "      <td>295672</td>\n",
              "      <td>USB-C Charging Cable</td>\n",
              "      <td>2.0</td>\n",
              "      <td>11.95</td>\n",
              "      <td>2019-12-13 09:29:00</td>\n",
              "      <td>813 Hickory St, Dallas, TX 75001</td>\n",
              "      <td>12.0</td>\n",
              "      <td>23.90</td>\n",
              "      <td>Dallas (TX)</td>\n",
              "    </tr>\n",
              "    <tr>\n",
              "      <th>8</th>\n",
              "      <td>295673</td>\n",
              "      <td>Bose SoundSport Headphones</td>\n",
              "      <td>1.0</td>\n",
              "      <td>99.99</td>\n",
              "      <td>2019-12-15 23:26:00</td>\n",
              "      <td>718 Wilson St, Dallas, TX 75001</td>\n",
              "      <td>12.0</td>\n",
              "      <td>99.99</td>\n",
              "      <td>Dallas (TX)</td>\n",
              "    </tr>\n",
              "    <tr>\n",
              "      <th>9</th>\n",
              "      <td>295674</td>\n",
              "      <td>AAA Batteries (4-pack)</td>\n",
              "      <td>4.0</td>\n",
              "      <td>2.99</td>\n",
              "      <td>2019-12-28 11:51:00</td>\n",
              "      <td>77 7th St, Dallas, TX 75001</td>\n",
              "      <td>12.0</td>\n",
              "      <td>11.96</td>\n",
              "      <td>Dallas (TX)</td>\n",
              "    </tr>\n",
              "    <tr>\n",
              "      <th>10</th>\n",
              "      <td>295675</td>\n",
              "      <td>USB-C Charging Cable</td>\n",
              "      <td>2.0</td>\n",
              "      <td>11.95</td>\n",
              "      <td>2019-12-13 13:52:00</td>\n",
              "      <td>594 1st St, San Francisco, CA 94016</td>\n",
              "      <td>12.0</td>\n",
              "      <td>23.90</td>\n",
              "      <td>San Francisco (CA)</td>\n",
              "    </tr>\n",
              "    <tr>\n",
              "      <th>11</th>\n",
              "      <td>295676</td>\n",
              "      <td>ThinkPad Laptop</td>\n",
              "      <td>1.0</td>\n",
              "      <td>999.99</td>\n",
              "      <td>2019-12-28 17:19:00</td>\n",
              "      <td>410 Lincoln St, Los Angeles, CA 90001</td>\n",
              "      <td>12.0</td>\n",
              "      <td>999.99</td>\n",
              "      <td>Los Angeles (CA)</td>\n",
              "    </tr>\n",
              "    <tr>\n",
              "      <th>12</th>\n",
              "      <td>295677</td>\n",
              "      <td>AA Batteries (4-pack)</td>\n",
              "      <td>2.0</td>\n",
              "      <td>3.84</td>\n",
              "      <td>2019-12-20 19:19:00</td>\n",
              "      <td>866 Pine St, Boston, MA 02215</td>\n",
              "      <td>12.0</td>\n",
              "      <td>7.68</td>\n",
              "      <td>Boston (MA)</td>\n",
              "    </tr>\n",
              "    <tr>\n",
              "      <th>13</th>\n",
              "      <td>295678</td>\n",
              "      <td>AAA Batteries (4-pack)</td>\n",
              "      <td>2.0</td>\n",
              "      <td>2.99</td>\n",
              "      <td>2019-12-06 09:38:00</td>\n",
              "      <td>187 Lincoln St, Dallas, TX 75001</td>\n",
              "      <td>12.0</td>\n",
              "      <td>5.98</td>\n",
              "      <td>Dallas (TX)</td>\n",
              "    </tr>\n",
              "    <tr>\n",
              "      <th>14</th>\n",
              "      <td>295679</td>\n",
              "      <td>USB-C Charging Cable</td>\n",
              "      <td>1.0</td>\n",
              "      <td>11.95</td>\n",
              "      <td>2019-12-25 09:39:00</td>\n",
              "      <td>902 2nd St, Dallas, TX 75001</td>\n",
              "      <td>12.0</td>\n",
              "      <td>11.95</td>\n",
              "      <td>Dallas (TX)</td>\n",
              "    </tr>\n",
              "    <tr>\n",
              "      <th>15</th>\n",
              "      <td>295680</td>\n",
              "      <td>Lightning Charging Cable</td>\n",
              "      <td>1.0</td>\n",
              "      <td>14.95</td>\n",
              "      <td>2019-12-01 14:30:00</td>\n",
              "      <td>338 Main St, Austin, TX 73301</td>\n",
              "      <td>12.0</td>\n",
              "      <td>14.95</td>\n",
              "      <td>Austin (TX)</td>\n",
              "    </tr>\n",
              "    <tr>\n",
              "      <th>16</th>\n",
              "      <td>295681</td>\n",
              "      <td>Google Phone</td>\n",
              "      <td>1.0</td>\n",
              "      <td>600.00</td>\n",
              "      <td>2019-12-25 12:37:00</td>\n",
              "      <td>79 Elm St, Boston, MA 02215</td>\n",
              "      <td>12.0</td>\n",
              "      <td>600.00</td>\n",
              "      <td>Boston (MA)</td>\n",
              "    </tr>\n",
              "    <tr>\n",
              "      <th>17</th>\n",
              "      <td>295681</td>\n",
              "      <td>USB-C Charging Cable</td>\n",
              "      <td>1.0</td>\n",
              "      <td>11.95</td>\n",
              "      <td>2019-12-25 12:37:00</td>\n",
              "      <td>79 Elm St, Boston, MA 02215</td>\n",
              "      <td>12.0</td>\n",
              "      <td>11.95</td>\n",
              "      <td>Boston (MA)</td>\n",
              "    </tr>\n",
              "    <tr>\n",
              "      <th>18</th>\n",
              "      <td>295681</td>\n",
              "      <td>Bose SoundSport Headphones</td>\n",
              "      <td>1.0</td>\n",
              "      <td>99.99</td>\n",
              "      <td>2019-12-25 12:37:00</td>\n",
              "      <td>79 Elm St, Boston, MA 02215</td>\n",
              "      <td>12.0</td>\n",
              "      <td>99.99</td>\n",
              "      <td>Boston (MA)</td>\n",
              "    </tr>\n",
              "    <tr>\n",
              "      <th>19</th>\n",
              "      <td>295681</td>\n",
              "      <td>Wired Headphones</td>\n",
              "      <td>1.0</td>\n",
              "      <td>11.99</td>\n",
              "      <td>2019-12-25 12:37:00</td>\n",
              "      <td>79 Elm St, Boston, MA 02215</td>\n",
              "      <td>12.0</td>\n",
              "      <td>11.99</td>\n",
              "      <td>Boston (MA)</td>\n",
              "    </tr>\n",
              "  </tbody>\n",
              "</table>\n",
              "</div>"
            ],
            "text/plain": [
              "   Order ID                     Product  ...    sales               cities\n",
              "0    295665          Macbook Pro Laptop  ...  1700.00   New York City (NY)\n",
              "1    295666          LG Washing Machine  ...   600.00   New York City (NY)\n",
              "2    295667        USB-C Charging Cable  ...    11.95   New York City (NY)\n",
              "3    295668            27in FHD Monitor  ...   149.99   San Francisco (CA)\n",
              "4    295669        USB-C Charging Cable  ...    11.95         Atlanta (GA)\n",
              "5    295670       AA Batteries (4-pack)  ...     3.84   New York City (NY)\n",
              "6    295671        USB-C Charging Cable  ...    11.95        Portland (OR)\n",
              "7    295672        USB-C Charging Cable  ...    23.90          Dallas (TX)\n",
              "8    295673  Bose SoundSport Headphones  ...    99.99          Dallas (TX)\n",
              "9    295674      AAA Batteries (4-pack)  ...    11.96          Dallas (TX)\n",
              "10   295675        USB-C Charging Cable  ...    23.90   San Francisco (CA)\n",
              "11   295676             ThinkPad Laptop  ...   999.99     Los Angeles (CA)\n",
              "12   295677       AA Batteries (4-pack)  ...     7.68          Boston (MA)\n",
              "13   295678      AAA Batteries (4-pack)  ...     5.98          Dallas (TX)\n",
              "14   295679        USB-C Charging Cable  ...    11.95          Dallas (TX)\n",
              "15   295680    Lightning Charging Cable  ...    14.95          Austin (TX)\n",
              "16   295681                Google Phone  ...   600.00          Boston (MA)\n",
              "17   295681        USB-C Charging Cable  ...    11.95          Boston (MA)\n",
              "18   295681  Bose SoundSport Headphones  ...    99.99          Boston (MA)\n",
              "19   295681            Wired Headphones  ...    11.99          Boston (MA)\n",
              "\n",
              "[20 rows x 9 columns]"
            ]
          },
          "metadata": {},
          "execution_count": 195
        }
      ]
    },
    {
      "cell_type": "code",
      "source": [
        "df_cities = df.groupby('cities').sum()['Quantity Ordered'].sort_values(ascending=False)\n",
        "df_cities.plot(kind='bar')\n",
        "plt.grid(axis='y')\n",
        "plt.xticks(rotation = 50)\n",
        "plt.xlabel('Cities')\n",
        "plt.ylabel('Products Sold');"
      ],
      "metadata": {
        "colab": {
          "base_uri": "https://localhost:8080/",
          "height": 350
        },
        "id": "8iPb53dv4MOM",
        "outputId": "0f094551-f0e6-48e8-9ec9-9296b83dec9e"
      },
      "execution_count": 200,
      "outputs": [
        {
          "output_type": "display_data",
          "data": {
            "image/png": "[encoded data removed]",
            "text/plain": [
              "<Figure size 432x288 with 1 Axes>"
            ]
          },
          "metadata": {
            "needs_background": "light"
          }
        }
      ]
    },
    {
      "cell_type": "code",
      "source": [
        "df_cities_sales = df.groupby('cities').sum()['sales'].sort_values(ascending=False)\n",
        "df_cities_sales.plot(kind='bar')\n",
        "plt.grid(axis='y')\n",
        "plt.xticks(rotation = 50);\n",
        "plt.xlabel('Cities')\n",
        "plt.ylabel('Total Sales (USD)');"
      ],
      "metadata": {
        "colab": {
          "base_uri": "https://localhost:8080/",
          "height": 361
        },
        "id": "6MoeEs0KaARd",
        "outputId": "b4d9487b-8361-4aa7-e9ec-53099b10987a"
      },
      "execution_count": 201,
      "outputs": [
        {
          "output_type": "display_data",
          "data": {
            "image/png": "[encoded data removed]",
            "text/plain": [
              "<Figure size 432x288 with 1 Axes>"
            ]
          },
          "metadata": {
            "needs_background": "light"
          }
        }
      ]
    },
    {
      "cell_type": "markdown",
      "source": [
        "## Task 3\n",
        "What time should we display advertisemens to maximize the likelihood of customer’s buying product?"
      ],
      "metadata": {
        "id": "Zw9gIkwm5qna"
      }
    },
    {
      "cell_type": "code",
      "source": [
        "df.head(10)"
      ],
      "metadata": {
        "colab": {
          "base_uri": "https://localhost:8080/",
          "height": 363
        },
        "id": "InHdRZp04P5J",
        "outputId": "6d9d1a41-fb30-473a-cb69-94af803cfc69"
      },
      "execution_count": 202,
      "outputs": [
        {
          "output_type": "execute_result",
          "data": {
            "text/html": [
              "<div>\n",
              "<style scoped>\n",
              "    .dataframe tbody tr th:only-of-type {\n",
              "        vertical-align: middle;\n",
              "    }\n",
              "\n",
              "    .dataframe tbody tr th {\n",
              "        vertical-align: top;\n",
              "    }\n",
              "\n",
              "    .dataframe thead th {\n",
              "        text-align: right;\n",
              "    }\n",
              "</style>\n",
              "<table border=\"1\" class=\"dataframe\">\n",
              "  <thead>\n",
              "    <tr style=\"text-align: right;\">\n",
              "      <th></th>\n",
              "      <th>Order ID</th>\n",
              "      <th>Product</th>\n",
              "      <th>Quantity Ordered</th>\n",
              "      <th>Price Each</th>\n",
              "      <th>Order Date</th>\n",
              "      <th>Purchase Address</th>\n",
              "      <th>month</th>\n",
              "      <th>sales</th>\n",
              "      <th>cities</th>\n",
              "    </tr>\n",
              "  </thead>\n",
              "  <tbody>\n",
              "    <tr>\n",
              "      <th>0</th>\n",
              "      <td>295665</td>\n",
              "      <td>Macbook Pro Laptop</td>\n",
              "      <td>1.0</td>\n",
              "      <td>1700.00</td>\n",
              "      <td>2019-12-30 00:01:00</td>\n",
              "      <td>136 Church St, New York City, NY 10001</td>\n",
              "      <td>12.0</td>\n",
              "      <td>1700.00</td>\n",
              "      <td>New York City (NY)</td>\n",
              "    </tr>\n",
              "    <tr>\n",
              "      <th>1</th>\n",
              "      <td>295666</td>\n",
              "      <td>LG Washing Machine</td>\n",
              "      <td>1.0</td>\n",
              "      <td>600.00</td>\n",
              "      <td>2019-12-29 07:03:00</td>\n",
              "      <td>562 2nd St, New York City, NY 10001</td>\n",
              "      <td>12.0</td>\n",
              "      <td>600.00</td>\n",
              "      <td>New York City (NY)</td>\n",
              "    </tr>\n",
              "    <tr>\n",
              "      <th>2</th>\n",
              "      <td>295667</td>\n",
              "      <td>USB-C Charging Cable</td>\n",
              "      <td>1.0</td>\n",
              "      <td>11.95</td>\n",
              "      <td>2019-12-12 18:21:00</td>\n",
              "      <td>277 Main St, New York City, NY 10001</td>\n",
              "      <td>12.0</td>\n",
              "      <td>11.95</td>\n",
              "      <td>New York City (NY)</td>\n",
              "    </tr>\n",
              "    <tr>\n",
              "      <th>3</th>\n",
              "      <td>295668</td>\n",
              "      <td>27in FHD Monitor</td>\n",
              "      <td>1.0</td>\n",
              "      <td>149.99</td>\n",
              "      <td>2019-12-22 15:13:00</td>\n",
              "      <td>410 6th St, San Francisco, CA 94016</td>\n",
              "      <td>12.0</td>\n",
              "      <td>149.99</td>\n",
              "      <td>San Francisco (CA)</td>\n",
              "    </tr>\n",
              "    <tr>\n",
              "      <th>4</th>\n",
              "      <td>295669</td>\n",
              "      <td>USB-C Charging Cable</td>\n",
              "      <td>1.0</td>\n",
              "      <td>11.95</td>\n",
              "      <td>2019-12-18 12:38:00</td>\n",
              "      <td>43 Hill St, Atlanta, GA 30301</td>\n",
              "      <td>12.0</td>\n",
              "      <td>11.95</td>\n",
              "      <td>Atlanta (GA)</td>\n",
              "    </tr>\n",
              "    <tr>\n",
              "      <th>5</th>\n",
              "      <td>295670</td>\n",
              "      <td>AA Batteries (4-pack)</td>\n",
              "      <td>1.0</td>\n",
              "      <td>3.84</td>\n",
              "      <td>2019-12-31 22:58:00</td>\n",
              "      <td>200 Jefferson St, New York City, NY 10001</td>\n",
              "      <td>12.0</td>\n",
              "      <td>3.84</td>\n",
              "      <td>New York City (NY)</td>\n",
              "    </tr>\n",
              "    <tr>\n",
              "      <th>6</th>\n",
              "      <td>295671</td>\n",
              "      <td>USB-C Charging Cable</td>\n",
              "      <td>1.0</td>\n",
              "      <td>11.95</td>\n",
              "      <td>2019-12-16 15:10:00</td>\n",
              "      <td>928 12th St, Portland, OR 97035</td>\n",
              "      <td>12.0</td>\n",
              "      <td>11.95</td>\n",
              "      <td>Portland (OR)</td>\n",
              "    </tr>\n",
              "    <tr>\n",
              "      <th>7</th>\n",
              "      <td>295672</td>\n",
              "      <td>USB-C Charging Cable</td>\n",
              "      <td>2.0</td>\n",
              "      <td>11.95</td>\n",
              "      <td>2019-12-13 09:29:00</td>\n",
              "      <td>813 Hickory St, Dallas, TX 75001</td>\n",
              "      <td>12.0</td>\n",
              "      <td>23.90</td>\n",
              "      <td>Dallas (TX)</td>\n",
              "    </tr>\n",
              "    <tr>\n",
              "      <th>8</th>\n",
              "      <td>295673</td>\n",
              "      <td>Bose SoundSport Headphones</td>\n",
              "      <td>1.0</td>\n",
              "      <td>99.99</td>\n",
              "      <td>2019-12-15 23:26:00</td>\n",
              "      <td>718 Wilson St, Dallas, TX 75001</td>\n",
              "      <td>12.0</td>\n",
              "      <td>99.99</td>\n",
              "      <td>Dallas (TX)</td>\n",
              "    </tr>\n",
              "    <tr>\n",
              "      <th>9</th>\n",
              "      <td>295674</td>\n",
              "      <td>AAA Batteries (4-pack)</td>\n",
              "      <td>4.0</td>\n",
              "      <td>2.99</td>\n",
              "      <td>2019-12-28 11:51:00</td>\n",
              "      <td>77 7th St, Dallas, TX 75001</td>\n",
              "      <td>12.0</td>\n",
              "      <td>11.96</td>\n",
              "      <td>Dallas (TX)</td>\n",
              "    </tr>\n",
              "  </tbody>\n",
              "</table>\n",
              "</div>"
            ],
            "text/plain": [
              "  Order ID                     Product  ...    sales               cities\n",
              "0   295665          Macbook Pro Laptop  ...  1700.00   New York City (NY)\n",
              "1   295666          LG Washing Machine  ...   600.00   New York City (NY)\n",
              "2   295667        USB-C Charging Cable  ...    11.95   New York City (NY)\n",
              "3   295668            27in FHD Monitor  ...   149.99   San Francisco (CA)\n",
              "4   295669        USB-C Charging Cable  ...    11.95         Atlanta (GA)\n",
              "5   295670       AA Batteries (4-pack)  ...     3.84   New York City (NY)\n",
              "6   295671        USB-C Charging Cable  ...    11.95        Portland (OR)\n",
              "7   295672        USB-C Charging Cable  ...    23.90          Dallas (TX)\n",
              "8   295673  Bose SoundSport Headphones  ...    99.99          Dallas (TX)\n",
              "9   295674      AAA Batteries (4-pack)  ...    11.96          Dallas (TX)\n",
              "\n",
              "[10 rows x 9 columns]"
            ]
          },
          "metadata": {},
          "execution_count": 202
        }
      ]
    },
    {
      "cell_type": "code",
      "source": [
        "#I will answer this task by considerating only the hour\n",
        "#that the product was bought\n",
        "df['hour'] = df['Order Date'].dt.hour"
      ],
      "metadata": {
        "id": "pfLeMvBZ5yEy"
      },
      "execution_count": 203,
      "outputs": []
    },
    {
      "cell_type": "code",
      "source": [
        "df_sale_time = df.groupby('hour').sum().sort_values('Quantity Ordered', ascending=False)\n",
        "df_sale_time.index = df_sale_time.index.astype(int)\n",
        "\n",
        "plt.figure(figsize=(10,8))\n",
        "sns.barplot(x = df_sale_time.index, y = df_sale_time['Quantity Ordered'], palette='flare')\n",
        "plt.grid(axis='y')"
      ],
      "metadata": {
        "colab": {
          "base_uri": "https://localhost:8080/",
          "height": 497
        },
        "id": "wtWT5v8k6J5F",
        "outputId": "5e9efeb5-46c2-4f3e-866e-acef75dbc53d"
      },
      "execution_count": 204,
      "outputs": [
        {
          "output_type": "display_data",
          "data": {
            "image/png": "[encoded data removed]",
            "text/plain": [
              "<Figure size 720x576 with 1 Axes>"
            ]
          },
          "metadata": {
            "needs_background": "light"
          }
        }
      ]
    },
    {
      "cell_type": "markdown",
      "source": [
        "The best time to display advertisement, based on the time the costumers bought a product, are in the range of 11 - 13am and 6-8pm."
      ],
      "metadata": {
        "id": "FGMjQlPD_eY_"
      }
    },
    {
      "cell_type": "markdown",
      "source": [
        "##Task 3\n",
        "What products are most often sold together?\n"
      ],
      "metadata": {
        "id": "J-elf2ryItf7"
      }
    },
    {
      "cell_type": "code",
      "source": [
        "df.head()"
      ],
      "metadata": {
        "id": "1Kk57zK996aH",
        "colab": {
          "base_uri": "https://localhost:8080/",
          "height": 206
        },
        "outputId": "05cf71c1-3e1f-49f1-8775-bf3396ebbb99"
      },
      "execution_count": 205,
      "outputs": [
        {
          "output_type": "execute_result",
          "data": {
            "text/html": [
              "<div>\n",
              "<style scoped>\n",
              "    .dataframe tbody tr th:only-of-type {\n",
              "        vertical-align: middle;\n",
              "    }\n",
              "\n",
              "    .dataframe tbody tr th {\n",
              "        vertical-align: top;\n",
              "    }\n",
              "\n",
              "    .dataframe thead th {\n",
              "        text-align: right;\n",
              "    }\n",
              "</style>\n",
              "<table border=\"1\" class=\"dataframe\">\n",
              "  <thead>\n",
              "    <tr style=\"text-align: right;\">\n",
              "      <th></th>\n",
              "      <th>Order ID</th>\n",
              "      <th>Product</th>\n",
              "      <th>Quantity Ordered</th>\n",
              "      <th>Price Each</th>\n",
              "      <th>Order Date</th>\n",
              "      <th>Purchase Address</th>\n",
              "      <th>month</th>\n",
              "      <th>sales</th>\n",
              "      <th>cities</th>\n",
              "      <th>hour</th>\n",
              "    </tr>\n",
              "  </thead>\n",
              "  <tbody>\n",
              "    <tr>\n",
              "      <th>0</th>\n",
              "      <td>295665</td>\n",
              "      <td>Macbook Pro Laptop</td>\n",
              "      <td>1.0</td>\n",
              "      <td>1700.00</td>\n",
              "      <td>2019-12-30 00:01:00</td>\n",
              "      <td>136 Church St, New York City, NY 10001</td>\n",
              "      <td>12.0</td>\n",
              "      <td>1700.00</td>\n",
              "      <td>New York City (NY)</td>\n",
              "      <td>0.0</td>\n",
              "    </tr>\n",
              "    <tr>\n",
              "      <th>1</th>\n",
              "      <td>295666</td>\n",
              "      <td>LG Washing Machine</td>\n",
              "      <td>1.0</td>\n",
              "      <td>600.00</td>\n",
              "      <td>2019-12-29 07:03:00</td>\n",
              "      <td>562 2nd St, New York City, NY 10001</td>\n",
              "      <td>12.0</td>\n",
              "      <td>600.00</td>\n",
              "      <td>New York City (NY)</td>\n",
              "      <td>7.0</td>\n",
              "    </tr>\n",
              "    <tr>\n",
              "      <th>2</th>\n",
              "      <td>295667</td>\n",
              "      <td>USB-C Charging Cable</td>\n",
              "      <td>1.0</td>\n",
              "      <td>11.95</td>\n",
              "      <td>2019-12-12 18:21:00</td>\n",
              "      <td>277 Main St, New York City, NY 10001</td>\n",
              "      <td>12.0</td>\n",
              "      <td>11.95</td>\n",
              "      <td>New York City (NY)</td>\n",
              "      <td>18.0</td>\n",
              "    </tr>\n",
              "    <tr>\n",
              "      <th>3</th>\n",
              "      <td>295668</td>\n",
              "      <td>27in FHD Monitor</td>\n",
              "      <td>1.0</td>\n",
              "      <td>149.99</td>\n",
              "      <td>2019-12-22 15:13:00</td>\n",
              "      <td>410 6th St, San Francisco, CA 94016</td>\n",
              "      <td>12.0</td>\n",
              "      <td>149.99</td>\n",
              "      <td>San Francisco (CA)</td>\n",
              "      <td>15.0</td>\n",
              "    </tr>\n",
              "    <tr>\n",
              "      <th>4</th>\n",
              "      <td>295669</td>\n",
              "      <td>USB-C Charging Cable</td>\n",
              "      <td>1.0</td>\n",
              "      <td>11.95</td>\n",
              "      <td>2019-12-18 12:38:00</td>\n",
              "      <td>43 Hill St, Atlanta, GA 30301</td>\n",
              "      <td>12.0</td>\n",
              "      <td>11.95</td>\n",
              "      <td>Atlanta (GA)</td>\n",
              "      <td>12.0</td>\n",
              "    </tr>\n",
              "  </tbody>\n",
              "</table>\n",
              "</div>"
            ],
            "text/plain": [
              "  Order ID               Product  ...               cities  hour\n",
              "0   295665    Macbook Pro Laptop  ...   New York City (NY)   0.0\n",
              "1   295666    LG Washing Machine  ...   New York City (NY)   7.0\n",
              "2   295667  USB-C Charging Cable  ...   New York City (NY)  18.0\n",
              "3   295668      27in FHD Monitor  ...   San Francisco (CA)  15.0\n",
              "4   295669  USB-C Charging Cable  ...         Atlanta (GA)  12.0\n",
              "\n",
              "[5 rows x 10 columns]"
            ]
          },
          "metadata": {},
          "execution_count": 205
        }
      ]
    },
    {
      "cell_type": "markdown",
      "source": [
        "In this problem we are going to check where are the duplicated ID's in Order ID column, so we can \n",
        "see the items that were sold together (in the same order)."
      ],
      "metadata": {
        "id": "BKMOyboYLM7e"
      }
    },
    {
      "cell_type": "code",
      "source": [
        "df_duplicated = df[df['Order ID'].duplicated(keep=False)]"
      ],
      "metadata": {
        "id": "T4bwbKgMKWuP"
      },
      "execution_count": 206,
      "outputs": []
    },
    {
      "cell_type": "code",
      "source": [
        "df_duplicated.head(10)"
      ],
      "metadata": {
        "colab": {
          "base_uri": "https://localhost:8080/",
          "height": 363
        },
        "id": "RXgSx5e5KYu8",
        "outputId": "724429e5-a7bc-4449-ce69-984c4160f299"
      },
      "execution_count": 207,
      "outputs": [
        {
          "output_type": "execute_result",
          "data": {
            "text/html": [
              "<div>\n",
              "<style scoped>\n",
              "    .dataframe tbody tr th:only-of-type {\n",
              "        vertical-align: middle;\n",
              "    }\n",
              "\n",
              "    .dataframe tbody tr th {\n",
              "        vertical-align: top;\n",
              "    }\n",
              "\n",
              "    .dataframe thead th {\n",
              "        text-align: right;\n",
              "    }\n",
              "</style>\n",
              "<table border=\"1\" class=\"dataframe\">\n",
              "  <thead>\n",
              "    <tr style=\"text-align: right;\">\n",
              "      <th></th>\n",
              "      <th>Order ID</th>\n",
              "      <th>Product</th>\n",
              "      <th>Quantity Ordered</th>\n",
              "      <th>Price Each</th>\n",
              "      <th>Order Date</th>\n",
              "      <th>Purchase Address</th>\n",
              "      <th>month</th>\n",
              "      <th>sales</th>\n",
              "      <th>cities</th>\n",
              "      <th>hour</th>\n",
              "    </tr>\n",
              "  </thead>\n",
              "  <tbody>\n",
              "    <tr>\n",
              "      <th>16</th>\n",
              "      <td>295681</td>\n",
              "      <td>Google Phone</td>\n",
              "      <td>1.0</td>\n",
              "      <td>600.00</td>\n",
              "      <td>2019-12-25 12:37:00</td>\n",
              "      <td>79 Elm St, Boston, MA 02215</td>\n",
              "      <td>12.0</td>\n",
              "      <td>600.00</td>\n",
              "      <td>Boston (MA)</td>\n",
              "      <td>12.0</td>\n",
              "    </tr>\n",
              "    <tr>\n",
              "      <th>17</th>\n",
              "      <td>295681</td>\n",
              "      <td>USB-C Charging Cable</td>\n",
              "      <td>1.0</td>\n",
              "      <td>11.95</td>\n",
              "      <td>2019-12-25 12:37:00</td>\n",
              "      <td>79 Elm St, Boston, MA 02215</td>\n",
              "      <td>12.0</td>\n",
              "      <td>11.95</td>\n",
              "      <td>Boston (MA)</td>\n",
              "      <td>12.0</td>\n",
              "    </tr>\n",
              "    <tr>\n",
              "      <th>18</th>\n",
              "      <td>295681</td>\n",
              "      <td>Bose SoundSport Headphones</td>\n",
              "      <td>1.0</td>\n",
              "      <td>99.99</td>\n",
              "      <td>2019-12-25 12:37:00</td>\n",
              "      <td>79 Elm St, Boston, MA 02215</td>\n",
              "      <td>12.0</td>\n",
              "      <td>99.99</td>\n",
              "      <td>Boston (MA)</td>\n",
              "      <td>12.0</td>\n",
              "    </tr>\n",
              "    <tr>\n",
              "      <th>19</th>\n",
              "      <td>295681</td>\n",
              "      <td>Wired Headphones</td>\n",
              "      <td>1.0</td>\n",
              "      <td>11.99</td>\n",
              "      <td>2019-12-25 12:37:00</td>\n",
              "      <td>79 Elm St, Boston, MA 02215</td>\n",
              "      <td>12.0</td>\n",
              "      <td>11.99</td>\n",
              "      <td>Boston (MA)</td>\n",
              "      <td>12.0</td>\n",
              "    </tr>\n",
              "    <tr>\n",
              "      <th>36</th>\n",
              "      <td>295698</td>\n",
              "      <td>Vareebadd Phone</td>\n",
              "      <td>1.0</td>\n",
              "      <td>400.00</td>\n",
              "      <td>2019-12-13 14:32:00</td>\n",
              "      <td>175 1st St, New York City, NY 10001</td>\n",
              "      <td>12.0</td>\n",
              "      <td>400.00</td>\n",
              "      <td>New York City (NY)</td>\n",
              "      <td>14.0</td>\n",
              "    </tr>\n",
              "    <tr>\n",
              "      <th>37</th>\n",
              "      <td>295698</td>\n",
              "      <td>USB-C Charging Cable</td>\n",
              "      <td>2.0</td>\n",
              "      <td>11.95</td>\n",
              "      <td>2019-12-13 14:32:00</td>\n",
              "      <td>175 1st St, New York City, NY 10001</td>\n",
              "      <td>12.0</td>\n",
              "      <td>23.90</td>\n",
              "      <td>New York City (NY)</td>\n",
              "      <td>14.0</td>\n",
              "    </tr>\n",
              "    <tr>\n",
              "      <th>42</th>\n",
              "      <td>295703</td>\n",
              "      <td>AA Batteries (4-pack)</td>\n",
              "      <td>1.0</td>\n",
              "      <td>3.84</td>\n",
              "      <td>2019-12-17 12:27:00</td>\n",
              "      <td>502 Jefferson St, Austin, TX 73301</td>\n",
              "      <td>12.0</td>\n",
              "      <td>3.84</td>\n",
              "      <td>Austin (TX)</td>\n",
              "      <td>12.0</td>\n",
              "    </tr>\n",
              "    <tr>\n",
              "      <th>43</th>\n",
              "      <td>295703</td>\n",
              "      <td>Bose SoundSport Headphones</td>\n",
              "      <td>1.0</td>\n",
              "      <td>99.99</td>\n",
              "      <td>2019-12-17 12:27:00</td>\n",
              "      <td>502 Jefferson St, Austin, TX 73301</td>\n",
              "      <td>12.0</td>\n",
              "      <td>99.99</td>\n",
              "      <td>Austin (TX)</td>\n",
              "      <td>12.0</td>\n",
              "    </tr>\n",
              "    <tr>\n",
              "      <th>66</th>\n",
              "      <td>295726</td>\n",
              "      <td>iPhone</td>\n",
              "      <td>1.0</td>\n",
              "      <td>700.00</td>\n",
              "      <td>2019-12-25 14:49:00</td>\n",
              "      <td>203 Lakeview St, Boston, MA 02215</td>\n",
              "      <td>12.0</td>\n",
              "      <td>700.00</td>\n",
              "      <td>Boston (MA)</td>\n",
              "      <td>14.0</td>\n",
              "    </tr>\n",
              "    <tr>\n",
              "      <th>67</th>\n",
              "      <td>295726</td>\n",
              "      <td>Lightning Charging Cable</td>\n",
              "      <td>1.0</td>\n",
              "      <td>14.95</td>\n",
              "      <td>2019-12-25 14:49:00</td>\n",
              "      <td>203 Lakeview St, Boston, MA 02215</td>\n",
              "      <td>12.0</td>\n",
              "      <td>14.95</td>\n",
              "      <td>Boston (MA)</td>\n",
              "      <td>14.0</td>\n",
              "    </tr>\n",
              "  </tbody>\n",
              "</table>\n",
              "</div>"
            ],
            "text/plain": [
              "   Order ID                     Product  ...               cities  hour\n",
              "16   295681                Google Phone  ...          Boston (MA)  12.0\n",
              "17   295681        USB-C Charging Cable  ...          Boston (MA)  12.0\n",
              "18   295681  Bose SoundSport Headphones  ...          Boston (MA)  12.0\n",
              "19   295681            Wired Headphones  ...          Boston (MA)  12.0\n",
              "36   295698             Vareebadd Phone  ...   New York City (NY)  14.0\n",
              "37   295698        USB-C Charging Cable  ...   New York City (NY)  14.0\n",
              "42   295703       AA Batteries (4-pack)  ...          Austin (TX)  12.0\n",
              "43   295703  Bose SoundSport Headphones  ...          Austin (TX)  12.0\n",
              "66   295726                      iPhone  ...          Boston (MA)  14.0\n",
              "67   295726    Lightning Charging Cable  ...          Boston (MA)  14.0\n",
              "\n",
              "[10 rows x 10 columns]"
            ]
          },
          "metadata": {},
          "execution_count": 207
        }
      ]
    },
    {
      "cell_type": "code",
      "source": [
        "df_duplicated.groupby('Order ID')['Product'].apply(lambda x: ','.join(x))"
      ],
      "metadata": {
        "colab": {
          "base_uri": "https://localhost:8080/"
        },
        "id": "R63H4w0nL9tG",
        "outputId": "712c1ad9-b5ff-4e9a-e25f-835ce7f9fde2"
      },
      "execution_count": 212,
      "outputs": [
        {
          "output_type": "execute_result",
          "data": {
            "text/plain": [
              "Order ID\n",
              "141275              USB-C Charging Cable,Wired Headphones\n",
              "141290     Apple Airpods Headphones,AA Batteries (4-pack)\n",
              "141365                   Vareebadd Phone,Wired Headphones\n",
              "141384                  Google Phone,USB-C Charging Cable\n",
              "141450            Google Phone,Bose SoundSport Headphones\n",
              "                               ...                       \n",
              "319536                Macbook Pro Laptop,Wired Headphones\n",
              "319556                      Google Phone,Wired Headphones\n",
              "319584                            iPhone,Wired Headphones\n",
              "319596                    iPhone,Lightning Charging Cable\n",
              "319631    34in Ultrawide Monitor,Lightning Charging Cable\n",
              "Name: Product, Length: 7136, dtype: object"
            ]
          },
          "metadata": {},
          "execution_count": 212
        }
      ]
    }
  ]
}