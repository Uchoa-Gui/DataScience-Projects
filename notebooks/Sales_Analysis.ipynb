{
  "nbformat": 4,
  "nbformat_minor": 0,
  "metadata": {
    "colab": {
      "name": "Sales_Analysis.ipynb",
      "provenance": [],
      "collapsed_sections": []
    },
    "kernelspec": {
      "name": "python3",
      "display_name": "Python 3"
    },
    "language_info": {
      "name": "python"
    }
  },
  "cells": [
    {
      "cell_type": "code",
      "execution_count": 2,
      "metadata": {
        "id": "hOnLvwZ9-0nU"
      },
      "outputs": [],
      "source": [
        "import pandas as pd\n",
        "import seaborn as sns\n",
        "import matplotlib.pyplot as plt"
      ]
    },
    {
      "cell_type": "code",
      "source": [
        "df_january = pd.read_csv('Sales_January_2019.csv')\n",
        "df_february = pd.read_csv('Sales_February_2019.csv')\n",
        "df_march = pd.read_csv('Sales_March_2019.csv')\n",
        "df_may = pd.read_csv('Sales_May_2019.csv')\n",
        "df_april = pd.read_csv('Sales_April_2019.csv')\n",
        "df_june = pd.read_csv('Sales_June_2019.csv')\n",
        "df_july = pd.read_csv('Sales_July_2019.csv')\n",
        "df_august = pd.read_csv('Sales_August_2019.csv')\n",
        "df_october = pd.read_csv('Sales_October_2019.csv')\n",
        "df_september = pd.read_csv('Sales_September_2019.csv')\n",
        "df_november = pd.read_csv('Sales_November_2019.csv')\n",
        "df_december = pd.read_csv('Sales_December_2019.csv')"
      ],
      "metadata": {
        "id": "CGAs6H-9_Ouj"
      },
      "execution_count": null,
      "outputs": []
    },
    {
      "cell_type": "code",
      "source": [
        "df_january.head()"
      ],
      "metadata": {
        "colab": {
          "base_uri": "https://localhost:8080/",
          "height": 206
        },
        "id": "8bibVwMw_YJE",
        "outputId": "64d30598-aeeb-4752-c1ca-b4fdf6c095f4"
      },
      "execution_count": null,
      "outputs": [
        {
          "output_type": "execute_result",
          "data": {
            "text/html": [
              "<div>\n",
              "<style scoped>\n",
              "    .dataframe tbody tr th:only-of-type {\n",
              "        vertical-align: middle;\n",
              "    }\n",
              "\n",
              "    .dataframe tbody tr th {\n",
              "        vertical-align: top;\n",
              "    }\n",
              "\n",
              "    .dataframe thead th {\n",
              "        text-align: right;\n",
              "    }\n",
              "</style>\n",
              "<table border=\"1\" class=\"dataframe\">\n",
              "  <thead>\n",
              "    <tr style=\"text-align: right;\">\n",
              "      <th></th>\n",
              "      <th>Order ID</th>\n",
              "      <th>Product</th>\n",
              "      <th>Quantity Ordered</th>\n",
              "      <th>Price Each</th>\n",
              "      <th>Order Date</th>\n",
              "      <th>Purchase Address</th>\n",
              "    </tr>\n",
              "  </thead>\n",
              "  <tbody>\n",
              "    <tr>\n",
              "      <th>0</th>\n",
              "      <td>141234</td>\n",
              "      <td>iPhone</td>\n",
              "      <td>1</td>\n",
              "      <td>700</td>\n",
              "      <td>01/22/19 21:25</td>\n",
              "      <td>944 Walnut St, Boston, MA 02215</td>\n",
              "    </tr>\n",
              "    <tr>\n",
              "      <th>1</th>\n",
              "      <td>141235</td>\n",
              "      <td>Lightning Charging Cable</td>\n",
              "      <td>1</td>\n",
              "      <td>14.95</td>\n",
              "      <td>01/28/19 14:15</td>\n",
              "      <td>185 Maple St, Portland, OR 97035</td>\n",
              "    </tr>\n",
              "    <tr>\n",
              "      <th>2</th>\n",
              "      <td>141236</td>\n",
              "      <td>Wired Headphones</td>\n",
              "      <td>2</td>\n",
              "      <td>11.99</td>\n",
              "      <td>01/17/19 13:33</td>\n",
              "      <td>538 Adams St, San Francisco, CA 94016</td>\n",
              "    </tr>\n",
              "    <tr>\n",
              "      <th>3</th>\n",
              "      <td>141237</td>\n",
              "      <td>27in FHD Monitor</td>\n",
              "      <td>1</td>\n",
              "      <td>149.99</td>\n",
              "      <td>01/05/19 20:33</td>\n",
              "      <td>738 10th St, Los Angeles, CA 90001</td>\n",
              "    </tr>\n",
              "    <tr>\n",
              "      <th>4</th>\n",
              "      <td>141238</td>\n",
              "      <td>Wired Headphones</td>\n",
              "      <td>1</td>\n",
              "      <td>11.99</td>\n",
              "      <td>01/25/19 11:59</td>\n",
              "      <td>387 10th St, Austin, TX 73301</td>\n",
              "    </tr>\n",
              "  </tbody>\n",
              "</table>\n",
              "</div>"
            ],
            "text/plain": [
              "  Order ID  ...                       Purchase Address\n",
              "0   141234  ...        944 Walnut St, Boston, MA 02215\n",
              "1   141235  ...       185 Maple St, Portland, OR 97035\n",
              "2   141236  ...  538 Adams St, San Francisco, CA 94016\n",
              "3   141237  ...     738 10th St, Los Angeles, CA 90001\n",
              "4   141238  ...          387 10th St, Austin, TX 73301\n",
              "\n",
              "[5 rows x 6 columns]"
            ]
          },
          "metadata": {},
          "execution_count": 5
        }
      ]
    },
    {
      "cell_type": "code",
      "source": [
        "df_september.head()"
      ],
      "metadata": {
        "colab": {
          "base_uri": "https://localhost:8080/",
          "height": 206
        },
        "id": "nHCYHPctACwo",
        "outputId": "8ab0721f-ef2e-42df-fe8e-4bdeb47a5e44"
      },
      "execution_count": null,
      "outputs": [
        {
          "output_type": "execute_result",
          "data": {
            "text/html": [
              "<div>\n",
              "<style scoped>\n",
              "    .dataframe tbody tr th:only-of-type {\n",
              "        vertical-align: middle;\n",
              "    }\n",
              "\n",
              "    .dataframe tbody tr th {\n",
              "        vertical-align: top;\n",
              "    }\n",
              "\n",
              "    .dataframe thead th {\n",
              "        text-align: right;\n",
              "    }\n",
              "</style>\n",
              "<table border=\"1\" class=\"dataframe\">\n",
              "  <thead>\n",
              "    <tr style=\"text-align: right;\">\n",
              "      <th></th>\n",
              "      <th>Order ID</th>\n",
              "      <th>Product</th>\n",
              "      <th>Quantity Ordered</th>\n",
              "      <th>Price Each</th>\n",
              "      <th>Order Date</th>\n",
              "      <th>Purchase Address</th>\n",
              "    </tr>\n",
              "  </thead>\n",
              "  <tbody>\n",
              "    <tr>\n",
              "      <th>0</th>\n",
              "      <td>248151</td>\n",
              "      <td>AA Batteries (4-pack)</td>\n",
              "      <td>4</td>\n",
              "      <td>3.84</td>\n",
              "      <td>09/17/19 14:44</td>\n",
              "      <td>380 North St, Los Angeles, CA 90001</td>\n",
              "    </tr>\n",
              "    <tr>\n",
              "      <th>1</th>\n",
              "      <td>248152</td>\n",
              "      <td>USB-C Charging Cable</td>\n",
              "      <td>2</td>\n",
              "      <td>11.95</td>\n",
              "      <td>09/29/19 10:19</td>\n",
              "      <td>511 8th St, Austin, TX 73301</td>\n",
              "    </tr>\n",
              "    <tr>\n",
              "      <th>2</th>\n",
              "      <td>248153</td>\n",
              "      <td>USB-C Charging Cable</td>\n",
              "      <td>1</td>\n",
              "      <td>11.95</td>\n",
              "      <td>09/16/19 17:48</td>\n",
              "      <td>151 Johnson St, Los Angeles, CA 90001</td>\n",
              "    </tr>\n",
              "    <tr>\n",
              "      <th>3</th>\n",
              "      <td>248154</td>\n",
              "      <td>27in FHD Monitor</td>\n",
              "      <td>1</td>\n",
              "      <td>149.99</td>\n",
              "      <td>09/27/19 07:52</td>\n",
              "      <td>355 Hickory St, Seattle, WA 98101</td>\n",
              "    </tr>\n",
              "    <tr>\n",
              "      <th>4</th>\n",
              "      <td>248155</td>\n",
              "      <td>USB-C Charging Cable</td>\n",
              "      <td>1</td>\n",
              "      <td>11.95</td>\n",
              "      <td>09/01/19 19:03</td>\n",
              "      <td>125 5th St, Atlanta, GA 30301</td>\n",
              "    </tr>\n",
              "  </tbody>\n",
              "</table>\n",
              "</div>"
            ],
            "text/plain": [
              "  Order ID  ...                       Purchase Address\n",
              "0   248151  ...    380 North St, Los Angeles, CA 90001\n",
              "1   248152  ...           511 8th St, Austin, TX 73301\n",
              "2   248153  ...  151 Johnson St, Los Angeles, CA 90001\n",
              "3   248154  ...      355 Hickory St, Seattle, WA 98101\n",
              "4   248155  ...          125 5th St, Atlanta, GA 30301\n",
              "\n",
              "[5 rows x 6 columns]"
            ]
          },
          "metadata": {},
          "execution_count": 6
        }
      ]
    },
    {
      "cell_type": "code",
      "source": [
        "#Concatenating \n",
        "lista = [df_january, df_february, df_march, df_april, df_may,\n",
        "         df_june, df_july, df_august, df_october, df_september,\n",
        "         df_november, df_december]\n",
        "\n",
        "df_concat = pd.DataFrame()\n",
        "for i in range(len(lista)):\n",
        "  df_concat = pd.concat([df_concat, lista[i]], axis=0)"
      ],
      "metadata": {
        "id": "cmNcVs2nAEi4"
      },
      "execution_count": null,
      "outputs": []
    },
    {
      "cell_type": "code",
      "source": [
        "df_concat.shape"
      ],
      "metadata": {
        "colab": {
          "base_uri": "https://localhost:8080/"
        },
        "id": "jUe99V3lAqhY",
        "outputId": "bcda49a3-0cba-41db-b69b-918add17b9a1"
      },
      "execution_count": null,
      "outputs": [
        {
          "output_type": "execute_result",
          "data": {
            "text/plain": [
              "(186850, 6)"
            ]
          },
          "metadata": {},
          "execution_count": 62
        }
      ]
    },
    {
      "cell_type": "code",
      "source": [
        "import os\n",
        "files = [file for file in os.listdir()]\n",
        "files"
      ],
      "metadata": {
        "colab": {
          "base_uri": "https://localhost:8080/"
        },
        "id": "1F8TP_SXBx0T",
        "outputId": "02ad9c17-6636-4729-c649-cebae957ed71"
      },
      "execution_count": null,
      "outputs": [
        {
          "output_type": "execute_result",
          "data": {
            "text/plain": [
              "['.config',\n",
              " 'Sales_December_2019.csv',\n",
              " 'Sales_July_2019.csv',\n",
              " 'Sales_June_2019.csv',\n",
              " 'Sales_April_2019.csv',\n",
              " 'Sales_May_2019.csv',\n",
              " 'Sales_August_2019.csv',\n",
              " 'Sales_October_2019.csv',\n",
              " 'Sales_February_2019.csv',\n",
              " 'Sales_September_2019.csv',\n",
              " 'Sales_March_2019.csv',\n",
              " 'Sales_January_2019.csv',\n",
              " 'Sales_November_2019.csv',\n",
              " 'sample_data']"
            ]
          },
          "metadata": {},
          "execution_count": 26
        }
      ]
    },
    {
      "cell_type": "code",
      "source": [
        "#Pior jeito possível\n",
        "removal = ['.config', 'sample_data']\n",
        "files.remove(removal[0])\n",
        "files.remove(removal[1])"
      ],
      "metadata": {
        "id": "ec68kq-DDFRf"
      },
      "execution_count": null,
      "outputs": []
    },
    {
      "cell_type": "code",
      "source": [
        "df_all_months = pd.DataFrame()\n",
        "for file in files:\n",
        "  df = pd.read_csv(file)\n",
        "  df_all_months = pd.concat([df_all_months, df])"
      ],
      "metadata": {
        "id": "y9goLxxmDiG6"
      },
      "execution_count": null,
      "outputs": []
    },
    {
      "cell_type": "code",
      "source": [
        "df_all_months.to_csv('all_data.csv')"
      ],
      "metadata": {
        "id": "vk1azT3QG6mq"
      },
      "execution_count": null,
      "outputs": []
    },
    {
      "cell_type": "code",
      "source": [
        "df = pd.read_csv('all_data.csv')"
      ],
      "metadata": {
        "id": "E0jIqYkkHBc3"
      },
      "execution_count": 4,
      "outputs": []
    },
    {
      "cell_type": "markdown",
      "source": [
        "## Task 1\n",
        "What was the best month for sales? How much was earned that month?"
      ],
      "metadata": {
        "id": "GlpLBswSGbi5"
      }
    },
    {
      "cell_type": "markdown",
      "source": [
        "First we gotta do some data cleaning before creating a new column"
      ],
      "metadata": {
        "id": "p1g-AXoMNwU7"
      }
    },
    {
      "cell_type": "code",
      "source": [
        "df.head()"
      ],
      "metadata": {
        "colab": {
          "base_uri": "https://localhost:8080/",
          "height": 206
        },
        "id": "IX-UIAXHF8H9",
        "outputId": "b35a9066-91d6-453b-eb08-c01e7913ec9d"
      },
      "execution_count": 5,
      "outputs": [
        {
          "output_type": "execute_result",
          "data": {
            "text/html": [
              "<div>\n",
              "<style scoped>\n",
              "    .dataframe tbody tr th:only-of-type {\n",
              "        vertical-align: middle;\n",
              "    }\n",
              "\n",
              "    .dataframe tbody tr th {\n",
              "        vertical-align: top;\n",
              "    }\n",
              "\n",
              "    .dataframe thead th {\n",
              "        text-align: right;\n",
              "    }\n",
              "</style>\n",
              "<table border=\"1\" class=\"dataframe\">\n",
              "  <thead>\n",
              "    <tr style=\"text-align: right;\">\n",
              "      <th></th>\n",
              "      <th>Unnamed: 0</th>\n",
              "      <th>Order ID</th>\n",
              "      <th>Product</th>\n",
              "      <th>Quantity Ordered</th>\n",
              "      <th>Price Each</th>\n",
              "      <th>Order Date</th>\n",
              "      <th>Purchase Address</th>\n",
              "    </tr>\n",
              "  </thead>\n",
              "  <tbody>\n",
              "    <tr>\n",
              "      <th>0</th>\n",
              "      <td>0</td>\n",
              "      <td>295665</td>\n",
              "      <td>Macbook Pro Laptop</td>\n",
              "      <td>1</td>\n",
              "      <td>1700</td>\n",
              "      <td>12/30/19 00:01</td>\n",
              "      <td>136 Church St, New York City, NY 10001</td>\n",
              "    </tr>\n",
              "    <tr>\n",
              "      <th>1</th>\n",
              "      <td>1</td>\n",
              "      <td>295666</td>\n",
              "      <td>LG Washing Machine</td>\n",
              "      <td>1</td>\n",
              "      <td>600.0</td>\n",
              "      <td>12/29/19 07:03</td>\n",
              "      <td>562 2nd St, New York City, NY 10001</td>\n",
              "    </tr>\n",
              "    <tr>\n",
              "      <th>2</th>\n",
              "      <td>2</td>\n",
              "      <td>295667</td>\n",
              "      <td>USB-C Charging Cable</td>\n",
              "      <td>1</td>\n",
              "      <td>11.95</td>\n",
              "      <td>12/12/19 18:21</td>\n",
              "      <td>277 Main St, New York City, NY 10001</td>\n",
              "    </tr>\n",
              "    <tr>\n",
              "      <th>3</th>\n",
              "      <td>3</td>\n",
              "      <td>295668</td>\n",
              "      <td>27in FHD Monitor</td>\n",
              "      <td>1</td>\n",
              "      <td>149.99</td>\n",
              "      <td>12/22/19 15:13</td>\n",
              "      <td>410 6th St, San Francisco, CA 94016</td>\n",
              "    </tr>\n",
              "    <tr>\n",
              "      <th>4</th>\n",
              "      <td>4</td>\n",
              "      <td>295669</td>\n",
              "      <td>USB-C Charging Cable</td>\n",
              "      <td>1</td>\n",
              "      <td>11.95</td>\n",
              "      <td>12/18/19 12:38</td>\n",
              "      <td>43 Hill St, Atlanta, GA 30301</td>\n",
              "    </tr>\n",
              "  </tbody>\n",
              "</table>\n",
              "</div>"
            ],
            "text/plain": [
              "   Unnamed: 0 Order ID  ...      Order Date                        Purchase Address\n",
              "0           0   295665  ...  12/30/19 00:01  136 Church St, New York City, NY 10001\n",
              "1           1   295666  ...  12/29/19 07:03     562 2nd St, New York City, NY 10001\n",
              "2           2   295667  ...  12/12/19 18:21    277 Main St, New York City, NY 10001\n",
              "3           3   295668  ...  12/22/19 15:13     410 6th St, San Francisco, CA 94016\n",
              "4           4   295669  ...  12/18/19 12:38           43 Hill St, Atlanta, GA 30301\n",
              "\n",
              "[5 rows x 7 columns]"
            ]
          },
          "metadata": {},
          "execution_count": 5
        }
      ]
    },
    {
      "cell_type": "code",
      "source": [
        "df.info()"
      ],
      "metadata": {
        "colab": {
          "base_uri": "https://localhost:8080/"
        },
        "id": "WI6pxCJLNhB5",
        "outputId": "4aa5e775-2ac4-4f83-b87d-23ebd30b487c"
      },
      "execution_count": 6,
      "outputs": [
        {
          "output_type": "stream",
          "name": "stdout",
          "text": [
            "<class 'pandas.core.frame.DataFrame'>\n",
            "RangeIndex: 186850 entries, 0 to 186849\n",
            "Data columns (total 7 columns):\n",
            " #   Column            Non-Null Count   Dtype \n",
            "---  ------            --------------   ----- \n",
            " 0   Unnamed: 0        186850 non-null  int64 \n",
            " 1   Order ID          186305 non-null  object\n",
            " 2   Product           186305 non-null  object\n",
            " 3   Quantity Ordered  186305 non-null  object\n",
            " 4   Price Each        186305 non-null  object\n",
            " 5   Order Date        186305 non-null  object\n",
            " 6   Purchase Address  186305 non-null  object\n",
            "dtypes: int64(1), object(6)\n",
            "memory usage: 10.0+ MB\n"
          ]
        }
      ]
    },
    {
      "cell_type": "code",
      "source": [
        "index = df[df['Order Date'] == 'Order Date'].index"
      ],
      "metadata": {
        "id": "lPb8RohYJYtm"
      },
      "execution_count": 7,
      "outputs": []
    },
    {
      "cell_type": "code",
      "source": [
        "df.drop(index=index, axis=0, inplace=True)"
      ],
      "metadata": {
        "id": "4DT1_QzaNyej"
      },
      "execution_count": 8,
      "outputs": []
    },
    {
      "cell_type": "code",
      "source": [
        "df[df['Order Date'] == 'Order Date']"
      ],
      "metadata": {
        "colab": {
          "base_uri": "https://localhost:8080/",
          "height": 49
        },
        "id": "BwP1Bu-lPWnz",
        "outputId": "6b303c89-09f3-4851-da41-b647f5a588a8"
      },
      "execution_count": 9,
      "outputs": [
        {
          "output_type": "execute_result",
          "data": {
            "text/html": [
              "<div>\n",
              "<style scoped>\n",
              "    .dataframe tbody tr th:only-of-type {\n",
              "        vertical-align: middle;\n",
              "    }\n",
              "\n",
              "    .dataframe tbody tr th {\n",
              "        vertical-align: top;\n",
              "    }\n",
              "\n",
              "    .dataframe thead th {\n",
              "        text-align: right;\n",
              "    }\n",
              "</style>\n",
              "<table border=\"1\" class=\"dataframe\">\n",
              "  <thead>\n",
              "    <tr style=\"text-align: right;\">\n",
              "      <th></th>\n",
              "      <th>Unnamed: 0</th>\n",
              "      <th>Order ID</th>\n",
              "      <th>Product</th>\n",
              "      <th>Quantity Ordered</th>\n",
              "      <th>Price Each</th>\n",
              "      <th>Order Date</th>\n",
              "      <th>Purchase Address</th>\n",
              "    </tr>\n",
              "  </thead>\n",
              "  <tbody>\n",
              "  </tbody>\n",
              "</table>\n",
              "</div>"
            ],
            "text/plain": [
              "Empty DataFrame\n",
              "Columns: [Unnamed: 0, Order ID, Product, Quantity Ordered, Price Each, Order Date, Purchase Address]\n",
              "Index: []"
            ]
          },
          "metadata": {},
          "execution_count": 9
        }
      ]
    },
    {
      "cell_type": "code",
      "source": [
        "df['Order Date'] = pd.to_datetime(df['Order Date'], format='%m/%d/%y %H:%M' )"
      ],
      "metadata": {
        "id": "RC6ypCLFHGMO"
      },
      "execution_count": 10,
      "outputs": []
    },
    {
      "cell_type": "code",
      "source": [
        "df.head()"
      ],
      "metadata": {
        "colab": {
          "base_uri": "https://localhost:8080/",
          "height": 206
        },
        "id": "xC9afDMhP3_2",
        "outputId": "426beda8-f43c-4242-a28b-022a4fc741d4"
      },
      "execution_count": 11,
      "outputs": [
        {
          "output_type": "execute_result",
          "data": {
            "text/html": [
              "<div>\n",
              "<style scoped>\n",
              "    .dataframe tbody tr th:only-of-type {\n",
              "        vertical-align: middle;\n",
              "    }\n",
              "\n",
              "    .dataframe tbody tr th {\n",
              "        vertical-align: top;\n",
              "    }\n",
              "\n",
              "    .dataframe thead th {\n",
              "        text-align: right;\n",
              "    }\n",
              "</style>\n",
              "<table border=\"1\" class=\"dataframe\">\n",
              "  <thead>\n",
              "    <tr style=\"text-align: right;\">\n",
              "      <th></th>\n",
              "      <th>Unnamed: 0</th>\n",
              "      <th>Order ID</th>\n",
              "      <th>Product</th>\n",
              "      <th>Quantity Ordered</th>\n",
              "      <th>Price Each</th>\n",
              "      <th>Order Date</th>\n",
              "      <th>Purchase Address</th>\n",
              "    </tr>\n",
              "  </thead>\n",
              "  <tbody>\n",
              "    <tr>\n",
              "      <th>0</th>\n",
              "      <td>0</td>\n",
              "      <td>295665</td>\n",
              "      <td>Macbook Pro Laptop</td>\n",
              "      <td>1</td>\n",
              "      <td>1700</td>\n",
              "      <td>2019-12-30 00:01:00</td>\n",
              "      <td>136 Church St, New York City, NY 10001</td>\n",
              "    </tr>\n",
              "    <tr>\n",
              "      <th>1</th>\n",
              "      <td>1</td>\n",
              "      <td>295666</td>\n",
              "      <td>LG Washing Machine</td>\n",
              "      <td>1</td>\n",
              "      <td>600.0</td>\n",
              "      <td>2019-12-29 07:03:00</td>\n",
              "      <td>562 2nd St, New York City, NY 10001</td>\n",
              "    </tr>\n",
              "    <tr>\n",
              "      <th>2</th>\n",
              "      <td>2</td>\n",
              "      <td>295667</td>\n",
              "      <td>USB-C Charging Cable</td>\n",
              "      <td>1</td>\n",
              "      <td>11.95</td>\n",
              "      <td>2019-12-12 18:21:00</td>\n",
              "      <td>277 Main St, New York City, NY 10001</td>\n",
              "    </tr>\n",
              "    <tr>\n",
              "      <th>3</th>\n",
              "      <td>3</td>\n",
              "      <td>295668</td>\n",
              "      <td>27in FHD Monitor</td>\n",
              "      <td>1</td>\n",
              "      <td>149.99</td>\n",
              "      <td>2019-12-22 15:13:00</td>\n",
              "      <td>410 6th St, San Francisco, CA 94016</td>\n",
              "    </tr>\n",
              "    <tr>\n",
              "      <th>4</th>\n",
              "      <td>4</td>\n",
              "      <td>295669</td>\n",
              "      <td>USB-C Charging Cable</td>\n",
              "      <td>1</td>\n",
              "      <td>11.95</td>\n",
              "      <td>2019-12-18 12:38:00</td>\n",
              "      <td>43 Hill St, Atlanta, GA 30301</td>\n",
              "    </tr>\n",
              "  </tbody>\n",
              "</table>\n",
              "</div>"
            ],
            "text/plain": [
              "   Unnamed: 0  ...                        Purchase Address\n",
              "0           0  ...  136 Church St, New York City, NY 10001\n",
              "1           1  ...     562 2nd St, New York City, NY 10001\n",
              "2           2  ...    277 Main St, New York City, NY 10001\n",
              "3           3  ...     410 6th St, San Francisco, CA 94016\n",
              "4           4  ...           43 Hill St, Atlanta, GA 30301\n",
              "\n",
              "[5 rows x 7 columns]"
            ]
          },
          "metadata": {},
          "execution_count": 11
        }
      ]
    },
    {
      "cell_type": "code",
      "source": [
        "df.info()"
      ],
      "metadata": {
        "colab": {
          "base_uri": "https://localhost:8080/"
        },
        "id": "SE7cZtLiPRp8",
        "outputId": "eff69ede-abef-4b9e-9f84-e621ac08aeee"
      },
      "execution_count": 12,
      "outputs": [
        {
          "output_type": "stream",
          "name": "stdout",
          "text": [
            "<class 'pandas.core.frame.DataFrame'>\n",
            "Int64Index: 186495 entries, 0 to 186849\n",
            "Data columns (total 7 columns):\n",
            " #   Column            Non-Null Count   Dtype         \n",
            "---  ------            --------------   -----         \n",
            " 0   Unnamed: 0        186495 non-null  int64         \n",
            " 1   Order ID          185950 non-null  object        \n",
            " 2   Product           185950 non-null  object        \n",
            " 3   Quantity Ordered  185950 non-null  object        \n",
            " 4   Price Each        185950 non-null  object        \n",
            " 5   Order Date        185950 non-null  datetime64[ns]\n",
            " 6   Purchase Address  185950 non-null  object        \n",
            "dtypes: datetime64[ns](1), int64(1), object(5)\n",
            "memory usage: 11.4+ MB\n"
          ]
        }
      ]
    },
    {
      "cell_type": "code",
      "source": [
        "#Adding a new month column\n",
        "df['month'] = df['Order Date'].dt.month"
      ],
      "metadata": {
        "id": "t3JEXttUPnzN"
      },
      "execution_count": 13,
      "outputs": []
    },
    {
      "cell_type": "code",
      "source": [
        "df.head(3)"
      ],
      "metadata": {
        "colab": {
          "base_uri": "https://localhost:8080/",
          "height": 143
        },
        "id": "hHcvw1H6QzrE",
        "outputId": "e55abb90-48e4-4e09-afb4-2eb440f8a0f2"
      },
      "execution_count": 14,
      "outputs": [
        {
          "output_type": "execute_result",
          "data": {
            "text/html": [
              "<div>\n",
              "<style scoped>\n",
              "    .dataframe tbody tr th:only-of-type {\n",
              "        vertical-align: middle;\n",
              "    }\n",
              "\n",
              "    .dataframe tbody tr th {\n",
              "        vertical-align: top;\n",
              "    }\n",
              "\n",
              "    .dataframe thead th {\n",
              "        text-align: right;\n",
              "    }\n",
              "</style>\n",
              "<table border=\"1\" class=\"dataframe\">\n",
              "  <thead>\n",
              "    <tr style=\"text-align: right;\">\n",
              "      <th></th>\n",
              "      <th>Unnamed: 0</th>\n",
              "      <th>Order ID</th>\n",
              "      <th>Product</th>\n",
              "      <th>Quantity Ordered</th>\n",
              "      <th>Price Each</th>\n",
              "      <th>Order Date</th>\n",
              "      <th>Purchase Address</th>\n",
              "      <th>month</th>\n",
              "    </tr>\n",
              "  </thead>\n",
              "  <tbody>\n",
              "    <tr>\n",
              "      <th>0</th>\n",
              "      <td>0</td>\n",
              "      <td>295665</td>\n",
              "      <td>Macbook Pro Laptop</td>\n",
              "      <td>1</td>\n",
              "      <td>1700</td>\n",
              "      <td>2019-12-30 00:01:00</td>\n",
              "      <td>136 Church St, New York City, NY 10001</td>\n",
              "      <td>12.0</td>\n",
              "    </tr>\n",
              "    <tr>\n",
              "      <th>1</th>\n",
              "      <td>1</td>\n",
              "      <td>295666</td>\n",
              "      <td>LG Washing Machine</td>\n",
              "      <td>1</td>\n",
              "      <td>600.0</td>\n",
              "      <td>2019-12-29 07:03:00</td>\n",
              "      <td>562 2nd St, New York City, NY 10001</td>\n",
              "      <td>12.0</td>\n",
              "    </tr>\n",
              "    <tr>\n",
              "      <th>2</th>\n",
              "      <td>2</td>\n",
              "      <td>295667</td>\n",
              "      <td>USB-C Charging Cable</td>\n",
              "      <td>1</td>\n",
              "      <td>11.95</td>\n",
              "      <td>2019-12-12 18:21:00</td>\n",
              "      <td>277 Main St, New York City, NY 10001</td>\n",
              "      <td>12.0</td>\n",
              "    </tr>\n",
              "  </tbody>\n",
              "</table>\n",
              "</div>"
            ],
            "text/plain": [
              "   Unnamed: 0 Order ID  ...                        Purchase Address month\n",
              "0           0   295665  ...  136 Church St, New York City, NY 10001  12.0\n",
              "1           1   295666  ...     562 2nd St, New York City, NY 10001  12.0\n",
              "2           2   295667  ...    277 Main St, New York City, NY 10001  12.0\n",
              "\n",
              "[3 rows x 8 columns]"
            ]
          },
          "metadata": {},
          "execution_count": 14
        }
      ]
    },
    {
      "cell_type": "code",
      "source": [
        "df.drop('Unnamed: 0', axis=1, inplace=True)"
      ],
      "metadata": {
        "id": "yxTwsYFmRjba"
      },
      "execution_count": 15,
      "outputs": []
    },
    {
      "cell_type": "code",
      "source": [
        "df['Price Each'] = df['Price Each'].astype(float)\n",
        "df['Quantity Ordered'] = df['Quantity Ordered'].astype(float)"
      ],
      "metadata": {
        "id": "59PT-MG-Rogc"
      },
      "execution_count": 16,
      "outputs": []
    },
    {
      "cell_type": "code",
      "source": [
        "#Now let's try to solve the first task\n",
        "#First we need the value of total sales of each month\n",
        "sales_per_month = df.groupby('month').sum()\n",
        "\n",
        "plt.figure(figsize=(10,6))\n",
        "sns.barplot(x = sales_per_month.index, y=sales_per_month['Price Each'], palette='flare')\n",
        "plt.ylabel('Total Sales')\n",
        "plt.xlabel('Month')\n",
        "plt.grid(axis='y')"
      ],
      "metadata": {
        "colab": {
          "base_uri": "https://localhost:8080/",
          "height": 399
        },
        "id": "vmcXOUoVP0tL",
        "outputId": "732f1a80-7483-49b0-ce92-0fc75f27ed94"
      },
      "execution_count": 17,
      "outputs": [
        {
          "output_type": "display_data",
          "data": {
            "image/png": "[encoded data removed]",
            "text/plain": [
              "<Figure size 720x432 with 1 Axes>"
            ]
          },
          "metadata": {
            "needs_background": "light"
          }
        }
      ]
    },
    {
      "cell_type": "code",
      "source": [
        "#Data Frame to visualize the difference between values\n",
        "df_sales = pd.DataFrame({'Total Sales': sales_per_month['Price Each']})\n",
        "\n",
        "df_sales.sort_values('Total Sales', ascending=False)"
      ],
      "metadata": {
        "colab": {
          "base_uri": "https://localhost:8080/",
          "height": 457
        },
        "id": "O6mz3duAQt0U",
        "outputId": "f25491d2-e621-438d-cfb6-d1fb818ef5d6"
      },
      "execution_count": 18,
      "outputs": [
        {
          "output_type": "execute_result",
          "data": {
            "text/html": [
              "<div>\n",
              "<style scoped>\n",
              "    .dataframe tbody tr th:only-of-type {\n",
              "        vertical-align: middle;\n",
              "    }\n",
              "\n",
              "    .dataframe tbody tr th {\n",
              "        vertical-align: top;\n",
              "    }\n",
              "\n",
              "    .dataframe thead th {\n",
              "        text-align: right;\n",
              "    }\n",
              "</style>\n",
              "<table border=\"1\" class=\"dataframe\">\n",
              "  <thead>\n",
              "    <tr style=\"text-align: right;\">\n",
              "      <th></th>\n",
              "      <th>Total Sales</th>\n",
              "    </tr>\n",
              "    <tr>\n",
              "      <th>month</th>\n",
              "      <th></th>\n",
              "    </tr>\n",
              "  </thead>\n",
              "  <tbody>\n",
              "    <tr>\n",
              "      <th>12.0</th>\n",
              "      <td>4.588415e+06</td>\n",
              "    </tr>\n",
              "    <tr>\n",
              "      <th>10.0</th>\n",
              "      <td>3.715555e+06</td>\n",
              "    </tr>\n",
              "    <tr>\n",
              "      <th>4.0</th>\n",
              "      <td>3.367671e+06</td>\n",
              "    </tr>\n",
              "    <tr>\n",
              "      <th>11.0</th>\n",
              "      <td>3.180601e+06</td>\n",
              "    </tr>\n",
              "    <tr>\n",
              "      <th>5.0</th>\n",
              "      <td>3.135125e+06</td>\n",
              "    </tr>\n",
              "    <tr>\n",
              "      <th>3.0</th>\n",
              "      <td>2.791208e+06</td>\n",
              "    </tr>\n",
              "    <tr>\n",
              "      <th>7.0</th>\n",
              "      <td>2.632540e+06</td>\n",
              "    </tr>\n",
              "    <tr>\n",
              "      <th>6.0</th>\n",
              "      <td>2.562026e+06</td>\n",
              "    </tr>\n",
              "    <tr>\n",
              "      <th>8.0</th>\n",
              "      <td>2.230345e+06</td>\n",
              "    </tr>\n",
              "    <tr>\n",
              "      <th>2.0</th>\n",
              "      <td>2.188885e+06</td>\n",
              "    </tr>\n",
              "    <tr>\n",
              "      <th>9.0</th>\n",
              "      <td>2.084992e+06</td>\n",
              "    </tr>\n",
              "    <tr>\n",
              "      <th>1.0</th>\n",
              "      <td>1.811768e+06</td>\n",
              "    </tr>\n",
              "  </tbody>\n",
              "</table>\n",
              "</div>"
            ],
            "text/plain": [
              "        Total Sales\n",
              "month              \n",
              "12.0   4.588415e+06\n",
              "10.0   3.715555e+06\n",
              "4.0    3.367671e+06\n",
              "11.0   3.180601e+06\n",
              "5.0    3.135125e+06\n",
              "3.0    2.791208e+06\n",
              "7.0    2.632540e+06\n",
              "6.0    2.562026e+06\n",
              "8.0    2.230345e+06\n",
              "2.0    2.188885e+06\n",
              "9.0    2.084992e+06\n",
              "1.0    1.811768e+06"
            ]
          },
          "metadata": {},
          "execution_count": 18
        }
      ]
    },
    {
      "cell_type": "markdown",
      "source": [
        "## Task 2\n",
        "What city sold the most product"
      ],
      "metadata": {
        "id": "1T216sB7VjmF"
      }
    },
    {
      "cell_type": "code",
      "source": [
        "df.head()"
      ],
      "metadata": {
        "colab": {
          "base_uri": "https://localhost:8080/",
          "height": 206
        },
        "id": "oBZY_VTPUh41",
        "outputId": "ab24e44e-b8dc-4e0b-e603-cbde6100058b"
      },
      "execution_count": 19,
      "outputs": [
        {
          "output_type": "execute_result",
          "data": {
            "text/html": [
              "<div>\n",
              "<style scoped>\n",
              "    .dataframe tbody tr th:only-of-type {\n",
              "        vertical-align: middle;\n",
              "    }\n",
              "\n",
              "    .dataframe tbody tr th {\n",
              "        vertical-align: top;\n",
              "    }\n",
              "\n",
              "    .dataframe thead th {\n",
              "        text-align: right;\n",
              "    }\n",
              "</style>\n",
              "<table border=\"1\" class=\"dataframe\">\n",
              "  <thead>\n",
              "    <tr style=\"text-align: right;\">\n",
              "      <th></th>\n",
              "      <th>Order ID</th>\n",
              "      <th>Product</th>\n",
              "      <th>Quantity Ordered</th>\n",
              "      <th>Price Each</th>\n",
              "      <th>Order Date</th>\n",
              "      <th>Purchase Address</th>\n",
              "      <th>month</th>\n",
              "    </tr>\n",
              "  </thead>\n",
              "  <tbody>\n",
              "    <tr>\n",
              "      <th>0</th>\n",
              "      <td>295665</td>\n",
              "      <td>Macbook Pro Laptop</td>\n",
              "      <td>1.0</td>\n",
              "      <td>1700.00</td>\n",
              "      <td>2019-12-30 00:01:00</td>\n",
              "      <td>136 Church St, New York City, NY 10001</td>\n",
              "      <td>12.0</td>\n",
              "    </tr>\n",
              "    <tr>\n",
              "      <th>1</th>\n",
              "      <td>295666</td>\n",
              "      <td>LG Washing Machine</td>\n",
              "      <td>1.0</td>\n",
              "      <td>600.00</td>\n",
              "      <td>2019-12-29 07:03:00</td>\n",
              "      <td>562 2nd St, New York City, NY 10001</td>\n",
              "      <td>12.0</td>\n",
              "    </tr>\n",
              "    <tr>\n",
              "      <th>2</th>\n",
              "      <td>295667</td>\n",
              "      <td>USB-C Charging Cable</td>\n",
              "      <td>1.0</td>\n",
              "      <td>11.95</td>\n",
              "      <td>2019-12-12 18:21:00</td>\n",
              "      <td>277 Main St, New York City, NY 10001</td>\n",
              "      <td>12.0</td>\n",
              "    </tr>\n",
              "    <tr>\n",
              "      <th>3</th>\n",
              "      <td>295668</td>\n",
              "      <td>27in FHD Monitor</td>\n",
              "      <td>1.0</td>\n",
              "      <td>149.99</td>\n",
              "      <td>2019-12-22 15:13:00</td>\n",
              "      <td>410 6th St, San Francisco, CA 94016</td>\n",
              "      <td>12.0</td>\n",
              "    </tr>\n",
              "    <tr>\n",
              "      <th>4</th>\n",
              "      <td>295669</td>\n",
              "      <td>USB-C Charging Cable</td>\n",
              "      <td>1.0</td>\n",
              "      <td>11.95</td>\n",
              "      <td>2019-12-18 12:38:00</td>\n",
              "      <td>43 Hill St, Atlanta, GA 30301</td>\n",
              "      <td>12.0</td>\n",
              "    </tr>\n",
              "  </tbody>\n",
              "</table>\n",
              "</div>"
            ],
            "text/plain": [
              "  Order ID               Product  ...                        Purchase Address  month\n",
              "0   295665    Macbook Pro Laptop  ...  136 Church St, New York City, NY 10001   12.0\n",
              "1   295666    LG Washing Machine  ...     562 2nd St, New York City, NY 10001   12.0\n",
              "2   295667  USB-C Charging Cable  ...    277 Main St, New York City, NY 10001   12.0\n",
              "3   295668      27in FHD Monitor  ...     410 6th St, San Francisco, CA 94016   12.0\n",
              "4   295669  USB-C Charging Cable  ...           43 Hill St, Atlanta, GA 30301   12.0\n",
              "\n",
              "[5 rows x 7 columns]"
            ]
          },
          "metadata": {},
          "execution_count": 19
        }
      ]
    },
    {
      "cell_type": "code",
      "source": [
        "df['cities'] = df['Purchase Address'].str.split(',').str.get(1)"
      ],
      "metadata": {
        "id": "yl0XBkpXVnEo"
      },
      "execution_count": 37,
      "outputs": []
    },
    {
      "cell_type": "code",
      "source": [
        "df.head()"
      ],
      "metadata": {
        "id": "aUWAHxnBW28a",
        "colab": {
          "base_uri": "https://localhost:8080/",
          "height": 206
        },
        "outputId": "7682aa2f-6905-4580-e638-bacbbea0f01d"
      },
      "execution_count": 38,
      "outputs": [
        {
          "output_type": "execute_result",
          "data": {
            "text/html": [
              "<div>\n",
              "<style scoped>\n",
              "    .dataframe tbody tr th:only-of-type {\n",
              "        vertical-align: middle;\n",
              "    }\n",
              "\n",
              "    .dataframe tbody tr th {\n",
              "        vertical-align: top;\n",
              "    }\n",
              "\n",
              "    .dataframe thead th {\n",
              "        text-align: right;\n",
              "    }\n",
              "</style>\n",
              "<table border=\"1\" class=\"dataframe\">\n",
              "  <thead>\n",
              "    <tr style=\"text-align: right;\">\n",
              "      <th></th>\n",
              "      <th>Order ID</th>\n",
              "      <th>Product</th>\n",
              "      <th>Quantity Ordered</th>\n",
              "      <th>Price Each</th>\n",
              "      <th>Order Date</th>\n",
              "      <th>Purchase Address</th>\n",
              "      <th>month</th>\n",
              "      <th>cities</th>\n",
              "    </tr>\n",
              "  </thead>\n",
              "  <tbody>\n",
              "    <tr>\n",
              "      <th>0</th>\n",
              "      <td>295665</td>\n",
              "      <td>Macbook Pro Laptop</td>\n",
              "      <td>1.0</td>\n",
              "      <td>1700.00</td>\n",
              "      <td>2019-12-30 00:01:00</td>\n",
              "      <td>136 Church St, New York City, NY 10001</td>\n",
              "      <td>12.0</td>\n",
              "      <td>New York City</td>\n",
              "    </tr>\n",
              "    <tr>\n",
              "      <th>1</th>\n",
              "      <td>295666</td>\n",
              "      <td>LG Washing Machine</td>\n",
              "      <td>1.0</td>\n",
              "      <td>600.00</td>\n",
              "      <td>2019-12-29 07:03:00</td>\n",
              "      <td>562 2nd St, New York City, NY 10001</td>\n",
              "      <td>12.0</td>\n",
              "      <td>New York City</td>\n",
              "    </tr>\n",
              "    <tr>\n",
              "      <th>2</th>\n",
              "      <td>295667</td>\n",
              "      <td>USB-C Charging Cable</td>\n",
              "      <td>1.0</td>\n",
              "      <td>11.95</td>\n",
              "      <td>2019-12-12 18:21:00</td>\n",
              "      <td>277 Main St, New York City, NY 10001</td>\n",
              "      <td>12.0</td>\n",
              "      <td>New York City</td>\n",
              "    </tr>\n",
              "    <tr>\n",
              "      <th>3</th>\n",
              "      <td>295668</td>\n",
              "      <td>27in FHD Monitor</td>\n",
              "      <td>1.0</td>\n",
              "      <td>149.99</td>\n",
              "      <td>2019-12-22 15:13:00</td>\n",
              "      <td>410 6th St, San Francisco, CA 94016</td>\n",
              "      <td>12.0</td>\n",
              "      <td>San Francisco</td>\n",
              "    </tr>\n",
              "    <tr>\n",
              "      <th>4</th>\n",
              "      <td>295669</td>\n",
              "      <td>USB-C Charging Cable</td>\n",
              "      <td>1.0</td>\n",
              "      <td>11.95</td>\n",
              "      <td>2019-12-18 12:38:00</td>\n",
              "      <td>43 Hill St, Atlanta, GA 30301</td>\n",
              "      <td>12.0</td>\n",
              "      <td>Atlanta</td>\n",
              "    </tr>\n",
              "  </tbody>\n",
              "</table>\n",
              "</div>"
            ],
            "text/plain": [
              "  Order ID               Product  ...  month          cities\n",
              "0   295665    Macbook Pro Laptop  ...   12.0   New York City\n",
              "1   295666    LG Washing Machine  ...   12.0   New York City\n",
              "2   295667  USB-C Charging Cable  ...   12.0   New York City\n",
              "3   295668      27in FHD Monitor  ...   12.0   San Francisco\n",
              "4   295669  USB-C Charging Cable  ...   12.0         Atlanta\n",
              "\n",
              "[5 rows x 8 columns]"
            ]
          },
          "metadata": {},
          "execution_count": 38
        }
      ]
    },
    {
      "cell_type": "code",
      "source": [
        "df_cities = df.groupby('cities').sum()['Quantity Ordered'].sort_values(ascending=False)\n",
        "df_cities.plot(kind='bar')\n",
        "plt.grid(axis='y')\n",
        "plt.xticks(rotation = 50);"
      ],
      "metadata": {
        "colab": {
          "base_uri": "https://localhost:8080/",
          "height": 331
        },
        "id": "8iPb53dv4MOM",
        "outputId": "4a8d9c15-0bf1-49b0-ab66-315d8452c703"
      },
      "execution_count": 53,
      "outputs": [
        {
          "output_type": "display_data",
          "data": {
            "image/png": "[encoded data removed]",
            "text/plain": [
              "<Figure size 432x288 with 1 Axes>"
            ]
          },
          "metadata": {
            "needs_background": "light"
          }
        }
      ]
    },
    {
      "cell_type": "markdown",
      "source": [
        "## Task 3\n",
        "What time should we display advertisemens to maximize the likelihood of customer’s buying product?"
      ],
      "metadata": {
        "id": "Zw9gIkwm5qna"
      }
    },
    {
      "cell_type": "code",
      "source": [
        "df.head(10)"
      ],
      "metadata": {
        "colab": {
          "base_uri": "https://localhost:8080/",
          "height": 363
        },
        "id": "InHdRZp04P5J",
        "outputId": "086ead64-5095-4e8c-c802-5f81fa1a8354"
      },
      "execution_count": 55,
      "outputs": [
        {
          "output_type": "execute_result",
          "data": {
            "text/html": [
              "<div>\n",
              "<style scoped>\n",
              "    .dataframe tbody tr th:only-of-type {\n",
              "        vertical-align: middle;\n",
              "    }\n",
              "\n",
              "    .dataframe tbody tr th {\n",
              "        vertical-align: top;\n",
              "    }\n",
              "\n",
              "    .dataframe thead th {\n",
              "        text-align: right;\n",
              "    }\n",
              "</style>\n",
              "<table border=\"1\" class=\"dataframe\">\n",
              "  <thead>\n",
              "    <tr style=\"text-align: right;\">\n",
              "      <th></th>\n",
              "      <th>Order ID</th>\n",
              "      <th>Product</th>\n",
              "      <th>Quantity Ordered</th>\n",
              "      <th>Price Each</th>\n",
              "      <th>Order Date</th>\n",
              "      <th>Purchase Address</th>\n",
              "      <th>month</th>\n",
              "      <th>cities</th>\n",
              "    </tr>\n",
              "  </thead>\n",
              "  <tbody>\n",
              "    <tr>\n",
              "      <th>0</th>\n",
              "      <td>295665</td>\n",
              "      <td>Macbook Pro Laptop</td>\n",
              "      <td>1.0</td>\n",
              "      <td>1700.00</td>\n",
              "      <td>2019-12-30 00:01:00</td>\n",
              "      <td>136 Church St, New York City, NY 10001</td>\n",
              "      <td>12.0</td>\n",
              "      <td>New York City</td>\n",
              "    </tr>\n",
              "    <tr>\n",
              "      <th>1</th>\n",
              "      <td>295666</td>\n",
              "      <td>LG Washing Machine</td>\n",
              "      <td>1.0</td>\n",
              "      <td>600.00</td>\n",
              "      <td>2019-12-29 07:03:00</td>\n",
              "      <td>562 2nd St, New York City, NY 10001</td>\n",
              "      <td>12.0</td>\n",
              "      <td>New York City</td>\n",
              "    </tr>\n",
              "    <tr>\n",
              "      <th>2</th>\n",
              "      <td>295667</td>\n",
              "      <td>USB-C Charging Cable</td>\n",
              "      <td>1.0</td>\n",
              "      <td>11.95</td>\n",
              "      <td>2019-12-12 18:21:00</td>\n",
              "      <td>277 Main St, New York City, NY 10001</td>\n",
              "      <td>12.0</td>\n",
              "      <td>New York City</td>\n",
              "    </tr>\n",
              "    <tr>\n",
              "      <th>3</th>\n",
              "      <td>295668</td>\n",
              "      <td>27in FHD Monitor</td>\n",
              "      <td>1.0</td>\n",
              "      <td>149.99</td>\n",
              "      <td>2019-12-22 15:13:00</td>\n",
              "      <td>410 6th St, San Francisco, CA 94016</td>\n",
              "      <td>12.0</td>\n",
              "      <td>San Francisco</td>\n",
              "    </tr>\n",
              "    <tr>\n",
              "      <th>4</th>\n",
              "      <td>295669</td>\n",
              "      <td>USB-C Charging Cable</td>\n",
              "      <td>1.0</td>\n",
              "      <td>11.95</td>\n",
              "      <td>2019-12-18 12:38:00</td>\n",
              "      <td>43 Hill St, Atlanta, GA 30301</td>\n",
              "      <td>12.0</td>\n",
              "      <td>Atlanta</td>\n",
              "    </tr>\n",
              "    <tr>\n",
              "      <th>5</th>\n",
              "      <td>295670</td>\n",
              "      <td>AA Batteries (4-pack)</td>\n",
              "      <td>1.0</td>\n",
              "      <td>3.84</td>\n",
              "      <td>2019-12-31 22:58:00</td>\n",
              "      <td>200 Jefferson St, New York City, NY 10001</td>\n",
              "      <td>12.0</td>\n",
              "      <td>New York City</td>\n",
              "    </tr>\n",
              "    <tr>\n",
              "      <th>6</th>\n",
              "      <td>295671</td>\n",
              "      <td>USB-C Charging Cable</td>\n",
              "      <td>1.0</td>\n",
              "      <td>11.95</td>\n",
              "      <td>2019-12-16 15:10:00</td>\n",
              "      <td>928 12th St, Portland, OR 97035</td>\n",
              "      <td>12.0</td>\n",
              "      <td>Portland</td>\n",
              "    </tr>\n",
              "    <tr>\n",
              "      <th>7</th>\n",
              "      <td>295672</td>\n",
              "      <td>USB-C Charging Cable</td>\n",
              "      <td>2.0</td>\n",
              "      <td>11.95</td>\n",
              "      <td>2019-12-13 09:29:00</td>\n",
              "      <td>813 Hickory St, Dallas, TX 75001</td>\n",
              "      <td>12.0</td>\n",
              "      <td>Dallas</td>\n",
              "    </tr>\n",
              "    <tr>\n",
              "      <th>8</th>\n",
              "      <td>295673</td>\n",
              "      <td>Bose SoundSport Headphones</td>\n",
              "      <td>1.0</td>\n",
              "      <td>99.99</td>\n",
              "      <td>2019-12-15 23:26:00</td>\n",
              "      <td>718 Wilson St, Dallas, TX 75001</td>\n",
              "      <td>12.0</td>\n",
              "      <td>Dallas</td>\n",
              "    </tr>\n",
              "    <tr>\n",
              "      <th>9</th>\n",
              "      <td>295674</td>\n",
              "      <td>AAA Batteries (4-pack)</td>\n",
              "      <td>4.0</td>\n",
              "      <td>2.99</td>\n",
              "      <td>2019-12-28 11:51:00</td>\n",
              "      <td>77 7th St, Dallas, TX 75001</td>\n",
              "      <td>12.0</td>\n",
              "      <td>Dallas</td>\n",
              "    </tr>\n",
              "  </tbody>\n",
              "</table>\n",
              "</div>"
            ],
            "text/plain": [
              "  Order ID                     Product  ...  month          cities\n",
              "0   295665          Macbook Pro Laptop  ...   12.0   New York City\n",
              "1   295666          LG Washing Machine  ...   12.0   New York City\n",
              "2   295667        USB-C Charging Cable  ...   12.0   New York City\n",
              "3   295668            27in FHD Monitor  ...   12.0   San Francisco\n",
              "4   295669        USB-C Charging Cable  ...   12.0         Atlanta\n",
              "5   295670       AA Batteries (4-pack)  ...   12.0   New York City\n",
              "6   295671        USB-C Charging Cable  ...   12.0        Portland\n",
              "7   295672        USB-C Charging Cable  ...   12.0          Dallas\n",
              "8   295673  Bose SoundSport Headphones  ...   12.0          Dallas\n",
              "9   295674      AAA Batteries (4-pack)  ...   12.0          Dallas\n",
              "\n",
              "[10 rows x 8 columns]"
            ]
          },
          "metadata": {},
          "execution_count": 55
        }
      ]
    },
    {
      "cell_type": "code",
      "source": [
        "#I will answer this task by considerating only the hour\n",
        "#that the product was bought\n",
        "df['hour'] = df['Order Date'].dt.hour"
      ],
      "metadata": {
        "id": "pfLeMvBZ5yEy"
      },
      "execution_count": 62,
      "outputs": []
    },
    {
      "cell_type": "code",
      "source": [
        "df_sale_time = df.groupby('hour').sum().sort_values('Quantity Ordered', ascending=False)\n",
        "df_sale_time.index = df_sale_time.index.astype(int)\n",
        "\n",
        "plt.figure(figsize=(10,8))\n",
        "sns.barplot(x = df_sale_time.index, y = df_sale_time['Quantity Ordered'], palette='flare')\n",
        "plt.grid(axis='y')"
      ],
      "metadata": {
        "colab": {
          "base_uri": "https://localhost:8080/",
          "height": 497
        },
        "id": "wtWT5v8k6J5F",
        "outputId": "b422699a-3907-42b2-96cb-f2453595dc90"
      },
      "execution_count": 83,
      "outputs": [
        {
          "output_type": "display_data",
          "data": {
            "image/png": "[encoded data removed]",
            "text/plain": [
              "<Figure size 720x576 with 1 Axes>"
            ]
          },
          "metadata": {
            "needs_background": "light"
          }
        }
      ]
    },
    {
      "cell_type": "markdown",
      "source": [
        "The best time to display advertisement, based on the time the costumers bought a product, are in the range of 10 - 12am and 6-8pm."
      ],
      "metadata": {
        "id": "FGMjQlPD_eY_"
      }
    },
    {
      "cell_type": "code",
      "source": [
        ""
      ],
      "metadata": {
        "id": "1Kk57zK996aH"
      },
      "execution_count": null,
      "outputs": []
    }
  ]
}