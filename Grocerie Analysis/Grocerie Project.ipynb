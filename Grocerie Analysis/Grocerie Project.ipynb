{
 "cells": [
  {
   "cell_type": "markdown",
   "metadata": {},
   "source": [
    "### Data Analysis in a Grocerie DataSet"
   ]
  },
  {
   "cell_type": "code",
   "execution_count": 17,
   "metadata": {},
   "outputs": [],
   "source": [
    "import numpy as np\n",
    "import pandas as pd\n",
    "import seaborn as sns\n",
    "import matplotlib.pyplot as plt\n",
    "import plotly.express as px"
   ]
  },
  {
   "cell_type": "code",
   "execution_count": 51,
   "metadata": {},
   "outputs": [],
   "source": [
    "df = pd.read_csv('Groceries_dataset.csv')"
   ]
  },
  {
   "cell_type": "code",
   "execution_count": 19,
   "metadata": {
    "scrolled": true
   },
   "outputs": [
    {
     "data": {
      "text/html": [
       "<div>\n",
       "<style scoped>\n",
       "    .dataframe tbody tr th:only-of-type {\n",
       "        vertical-align: middle;\n",
       "    }\n",
       "\n",
       "    .dataframe tbody tr th {\n",
       "        vertical-align: top;\n",
       "    }\n",
       "\n",
       "    .dataframe thead th {\n",
       "        text-align: right;\n",
       "    }\n",
       "</style>\n",
       "<table border=\"1\" class=\"dataframe\">\n",
       "  <thead>\n",
       "    <tr style=\"text-align: right;\">\n",
       "      <th></th>\n",
       "      <th>Member_number</th>\n",
       "      <th>Date</th>\n",
       "      <th>itemDescription</th>\n",
       "    </tr>\n",
       "  </thead>\n",
       "  <tbody>\n",
       "    <tr>\n",
       "      <th>0</th>\n",
       "      <td>1808</td>\n",
       "      <td>21-07-2015</td>\n",
       "      <td>tropical fruit</td>\n",
       "    </tr>\n",
       "    <tr>\n",
       "      <th>1</th>\n",
       "      <td>2552</td>\n",
       "      <td>05-01-2015</td>\n",
       "      <td>whole milk</td>\n",
       "    </tr>\n",
       "    <tr>\n",
       "      <th>2</th>\n",
       "      <td>2300</td>\n",
       "      <td>19-09-2015</td>\n",
       "      <td>pip fruit</td>\n",
       "    </tr>\n",
       "    <tr>\n",
       "      <th>3</th>\n",
       "      <td>1187</td>\n",
       "      <td>12-12-2015</td>\n",
       "      <td>other vegetables</td>\n",
       "    </tr>\n",
       "    <tr>\n",
       "      <th>4</th>\n",
       "      <td>3037</td>\n",
       "      <td>01-02-2015</td>\n",
       "      <td>whole milk</td>\n",
       "    </tr>\n",
       "  </tbody>\n",
       "</table>\n",
       "</div>"
      ],
      "text/plain": [
       "   Member_number        Date   itemDescription\n",
       "0           1808  21-07-2015    tropical fruit\n",
       "1           2552  05-01-2015        whole milk\n",
       "2           2300  19-09-2015         pip fruit\n",
       "3           1187  12-12-2015  other vegetables\n",
       "4           3037  01-02-2015        whole milk"
      ]
     },
     "execution_count": 19,
     "metadata": {},
     "output_type": "execute_result"
    }
   ],
   "source": [
    "df.head()"
   ]
  },
  {
   "cell_type": "code",
   "execution_count": 20,
   "metadata": {
    "scrolled": true
   },
   "outputs": [
    {
     "data": {
      "text/plain": [
       "(38765, 3)"
      ]
     },
     "execution_count": 20,
     "metadata": {},
     "output_type": "execute_result"
    }
   ],
   "source": [
    "df.shape"
   ]
  },
  {
   "cell_type": "code",
   "execution_count": 21,
   "metadata": {},
   "outputs": [
    {
     "data": {
      "text/plain": [
       "Member_number      0\n",
       "Date               0\n",
       "itemDescription    0\n",
       "dtype: int64"
      ]
     },
     "execution_count": 21,
     "metadata": {},
     "output_type": "execute_result"
    }
   ],
   "source": [
    "df.isnull().sum()"
   ]
  },
  {
   "cell_type": "code",
   "execution_count": 22,
   "metadata": {},
   "outputs": [
    {
     "name": "stdout",
     "output_type": "stream",
     "text": [
      "Total Products 38765\n",
      "Total Days 728\n",
      "Total Months 24\n"
     ]
    }
   ],
   "source": [
    "total_days = len(np.unique(df['Date']))\n",
    "total_products = len(df.itemDescription)\n",
    "print('Total Products', total_products)\n",
    "print('Total Days', total_days) \n",
    "print('Total Months', int(total_days/30))"
   ]
  },
  {
   "cell_type": "markdown",
   "metadata": {},
   "source": [
    "$ \\rightarrow $This dataset represents the sales of 38765 products in an interval of 2 years "
   ]
  },
  {
   "cell_type": "code",
   "execution_count": 23,
   "metadata": {},
   "outputs": [],
   "source": [
    "df['Date'] = pd.to_datetime(df['Date'])"
   ]
  },
  {
   "cell_type": "code",
   "execution_count": 24,
   "metadata": {},
   "outputs": [
    {
     "data": {
      "text/html": [
       "<div>\n",
       "<style scoped>\n",
       "    .dataframe tbody tr th:only-of-type {\n",
       "        vertical-align: middle;\n",
       "    }\n",
       "\n",
       "    .dataframe tbody tr th {\n",
       "        vertical-align: top;\n",
       "    }\n",
       "\n",
       "    .dataframe thead th {\n",
       "        text-align: right;\n",
       "    }\n",
       "</style>\n",
       "<table border=\"1\" class=\"dataframe\">\n",
       "  <thead>\n",
       "    <tr style=\"text-align: right;\">\n",
       "      <th></th>\n",
       "      <th>Member_number</th>\n",
       "      <th>Date</th>\n",
       "      <th>itemDescription</th>\n",
       "    </tr>\n",
       "  </thead>\n",
       "  <tbody>\n",
       "    <tr>\n",
       "      <th>0</th>\n",
       "      <td>1808</td>\n",
       "      <td>2015-07-21</td>\n",
       "      <td>tropical fruit</td>\n",
       "    </tr>\n",
       "    <tr>\n",
       "      <th>1</th>\n",
       "      <td>2552</td>\n",
       "      <td>2015-05-01</td>\n",
       "      <td>whole milk</td>\n",
       "    </tr>\n",
       "    <tr>\n",
       "      <th>2</th>\n",
       "      <td>2300</td>\n",
       "      <td>2015-09-19</td>\n",
       "      <td>pip fruit</td>\n",
       "    </tr>\n",
       "    <tr>\n",
       "      <th>3</th>\n",
       "      <td>1187</td>\n",
       "      <td>2015-12-12</td>\n",
       "      <td>other vegetables</td>\n",
       "    </tr>\n",
       "    <tr>\n",
       "      <th>4</th>\n",
       "      <td>3037</td>\n",
       "      <td>2015-01-02</td>\n",
       "      <td>whole milk</td>\n",
       "    </tr>\n",
       "  </tbody>\n",
       "</table>\n",
       "</div>"
      ],
      "text/plain": [
       "   Member_number       Date   itemDescription\n",
       "0           1808 2015-07-21    tropical fruit\n",
       "1           2552 2015-05-01        whole milk\n",
       "2           2300 2015-09-19         pip fruit\n",
       "3           1187 2015-12-12  other vegetables\n",
       "4           3037 2015-01-02        whole milk"
      ]
     },
     "execution_count": 24,
     "metadata": {},
     "output_type": "execute_result"
    }
   ],
   "source": [
    "df.head()"
   ]
  },
  {
   "cell_type": "code",
   "execution_count": 25,
   "metadata": {},
   "outputs": [
    {
     "data": {
      "text/html": [
       "<div>\n",
       "<style scoped>\n",
       "    .dataframe tbody tr th:only-of-type {\n",
       "        vertical-align: middle;\n",
       "    }\n",
       "\n",
       "    .dataframe tbody tr th {\n",
       "        vertical-align: top;\n",
       "    }\n",
       "\n",
       "    .dataframe thead th {\n",
       "        text-align: right;\n",
       "    }\n",
       "</style>\n",
       "<table border=\"1\" class=\"dataframe\">\n",
       "  <thead>\n",
       "    <tr style=\"text-align: right;\">\n",
       "      <th></th>\n",
       "      <th>Member_number</th>\n",
       "      <th>itemDescription</th>\n",
       "    </tr>\n",
       "    <tr>\n",
       "      <th>Date</th>\n",
       "      <th></th>\n",
       "      <th></th>\n",
       "    </tr>\n",
       "  </thead>\n",
       "  <tbody>\n",
       "    <tr>\n",
       "      <th>2015-07-21</th>\n",
       "      <td>1808</td>\n",
       "      <td>tropical fruit</td>\n",
       "    </tr>\n",
       "    <tr>\n",
       "      <th>2015-05-01</th>\n",
       "      <td>2552</td>\n",
       "      <td>whole milk</td>\n",
       "    </tr>\n",
       "    <tr>\n",
       "      <th>2015-09-19</th>\n",
       "      <td>2300</td>\n",
       "      <td>pip fruit</td>\n",
       "    </tr>\n",
       "    <tr>\n",
       "      <th>2015-12-12</th>\n",
       "      <td>1187</td>\n",
       "      <td>other vegetables</td>\n",
       "    </tr>\n",
       "    <tr>\n",
       "      <th>2015-01-02</th>\n",
       "      <td>3037</td>\n",
       "      <td>whole milk</td>\n",
       "    </tr>\n",
       "    <tr>\n",
       "      <th>...</th>\n",
       "      <td>...</td>\n",
       "      <td>...</td>\n",
       "    </tr>\n",
       "    <tr>\n",
       "      <th>2014-08-10</th>\n",
       "      <td>4471</td>\n",
       "      <td>sliced cheese</td>\n",
       "    </tr>\n",
       "    <tr>\n",
       "      <th>2014-02-23</th>\n",
       "      <td>2022</td>\n",
       "      <td>candy</td>\n",
       "    </tr>\n",
       "    <tr>\n",
       "      <th>2014-04-16</th>\n",
       "      <td>1097</td>\n",
       "      <td>cake bar</td>\n",
       "    </tr>\n",
       "    <tr>\n",
       "      <th>2014-03-12</th>\n",
       "      <td>1510</td>\n",
       "      <td>fruit/vegetable juice</td>\n",
       "    </tr>\n",
       "    <tr>\n",
       "      <th>2014-12-26</th>\n",
       "      <td>1521</td>\n",
       "      <td>cat food</td>\n",
       "    </tr>\n",
       "  </tbody>\n",
       "</table>\n",
       "<p>38765 rows × 2 columns</p>\n",
       "</div>"
      ],
      "text/plain": [
       "            Member_number        itemDescription\n",
       "Date                                            \n",
       "2015-07-21           1808         tropical fruit\n",
       "2015-05-01           2552             whole milk\n",
       "2015-09-19           2300              pip fruit\n",
       "2015-12-12           1187       other vegetables\n",
       "2015-01-02           3037             whole milk\n",
       "...                   ...                    ...\n",
       "2014-08-10           4471          sliced cheese\n",
       "2014-02-23           2022                  candy\n",
       "2014-04-16           1097               cake bar\n",
       "2014-03-12           1510  fruit/vegetable juice\n",
       "2014-12-26           1521               cat food\n",
       "\n",
       "[38765 rows x 2 columns]"
      ]
     },
     "execution_count": 25,
     "metadata": {},
     "output_type": "execute_result"
    }
   ],
   "source": [
    "df.set_index(['Date'],inplace = True)\n",
    "df"
   ]
  },
  {
   "cell_type": "code",
   "execution_count": 26,
   "metadata": {},
   "outputs": [
    {
     "data": {
      "text/plain": [
       "whole milk               2502\n",
       "other vegetables         1898\n",
       "rolls/buns               1716\n",
       "soda                     1514\n",
       "yogurt                   1334\n",
       "                         ... \n",
       "toilet cleaner              5\n",
       "bags                        4\n",
       "baby cosmetics              3\n",
       "preservation products       1\n",
       "kitchen utensil             1\n",
       "Name: itemDescription, Length: 167, dtype: int64"
      ]
     },
     "execution_count": 26,
     "metadata": {},
     "output_type": "execute_result"
    }
   ],
   "source": [
    "df.itemDescription.value_counts()"
   ]
  },
  {
   "cell_type": "code",
   "execution_count": 27,
   "metadata": {},
   "outputs": [
    {
     "data": {
      "image/png": "[encoded data removed]",
      "text/plain": [
       "<Figure size 864x432 with 1 Axes>"
      ]
     },
     "metadata": {
      "needs_background": "light"
     },
     "output_type": "display_data"
    }
   ],
   "source": [
    "plt.figure(figsize = (12,6))\n",
    "sns.barplot(df.itemDescription.value_counts().head(20).index, \n",
    "        df.itemDescription.value_counts().head(20).values, palette = 'CMRmap')\n",
    "plt.xticks(rotation = 50)\n",
    "plt.xlabel('Items')\n",
    "plt.ylabel('Count')\n",
    "plt.title('20 Most Selled Items', size = 15)\n",
    "plt.show()"
   ]
  },
  {
   "cell_type": "code",
   "execution_count": 52,
   "metadata": {},
   "outputs": [],
   "source": [
    "#I will use groupby function so we have the items in a list separately\n",
    "df=df.groupby(['Member_number', 'Date'])['itemDescription'].apply(lambda x:\n",
    "                                                                 list(x))"
   ]
  },
  {
   "cell_type": "code",
   "execution_count": 53,
   "metadata": {},
   "outputs": [
    {
     "data": {
      "text/plain": [
       "Member_number  Date      \n",
       "1000           15-03-2015    [sausage, whole milk, semi-finished bread, yog...\n",
       "               24-06-2014                    [whole milk, pastry, salty snack]\n",
       "               24-07-2015                       [canned beer, misc. beverages]\n",
       "               25-11-2015                          [sausage, hygiene articles]\n",
       "               27-05-2015                           [soda, pickled vegetables]\n",
       "Name: itemDescription, dtype: object"
      ]
     },
     "execution_count": 53,
     "metadata": {},
     "output_type": "execute_result"
    }
   ],
   "source": [
    "df.head()"
   ]
  },
  {
   "cell_type": "code",
   "execution_count": 30,
   "metadata": {},
   "outputs": [],
   "source": [
    "#Transforming for a format that i can use in the apriori algorithm\n",
    "transactions = list(df)"
   ]
  },
  {
   "cell_type": "markdown",
   "metadata": {},
   "source": [
    "$ \\rightarrow $ With this application of apriori we'll have all the rules analysing all the items together."
   ]
  },
  {
   "cell_type": "code",
   "execution_count": 31,
   "metadata": {},
   "outputs": [
    {
     "data": {
      "text/plain": [
       "1919"
      ]
     },
     "execution_count": 31,
     "metadata": {},
     "output_type": "execute_result"
    }
   ],
   "source": [
    "from apyori import apriori\n",
    "rules = apriori(transactions, min_support = 0.0001, min_lift = 2, min_confidence = 0.2)\n",
    "results = list(rules)\n",
    "len(results)"
   ]
  },
  {
   "cell_type": "code",
   "execution_count": 32,
   "metadata": {
    "scrolled": true
   },
   "outputs": [
    {
     "data": {
      "text/plain": [
       "[RelationRecord(items=frozenset({'soda', 'artif. sweetener'}), support=0.00046782062420637575, ordered_statistics=[OrderedStatistic(items_base=frozenset({'artif. sweetener'}), items_add=frozenset({'soda'}), confidence=0.2413793103448276, lift=2.4857251346797353)]),\n",
       " RelationRecord(items=frozenset({'bags', 'yogurt'}), support=0.00013366303548753594, ordered_statistics=[OrderedStatistic(items_base=frozenset({'bags'}), items_add=frozenset({'yogurt'}), confidence=0.5, lift=5.822178988326848)]),\n",
       " RelationRecord(items=frozenset({'brandy', 'whole milk'}), support=0.0008688097306689834, ordered_statistics=[OrderedStatistic(items_base=frozenset({'brandy'}), items_add=frozenset({'whole milk'}), confidence=0.34210526315789475, lift=2.1662805978127717)]),\n",
       " RelationRecord(items=frozenset({'chicken', 'organic products'}), support=0.00013366303548753594, ordered_statistics=[OrderedStatistic(items_base=frozenset({'organic products'}), items_add=frozenset({'chicken'}), confidence=0.2, lift=7.176498800959234)]),\n",
       " RelationRecord(items=frozenset({'newspapers', 'cream'}), support=0.00020049455323130388, ordered_statistics=[OrderedStatistic(items_base=frozenset({'cream'}), items_add=frozenset({'newspapers'}), confidence=0.25, lift=6.427405498281787)]),\n",
       " RelationRecord(items=frozenset({'cream', 'sausage'}), support=0.00020049455323130388, ordered_statistics=[OrderedStatistic(items_base=frozenset({'cream'}), items_add=frozenset({'sausage'}), confidence=0.25, lift=4.142580287929125)]),\n",
       " RelationRecord(items=frozenset({'decalcifier', 'root vegetables'}), support=0.00013366303548753594, ordered_statistics=[OrderedStatistic(items_base=frozenset({'decalcifier'}), items_add=frozenset({'root vegetables'}), confidence=0.22222222222222224, lift=3.1941509232575513)]),\n",
       " RelationRecord(items=frozenset({'decalcifier', 'whipped/sour cream'}), support=0.00013366303548753594, ordered_statistics=[OrderedStatistic(items_base=frozenset({'decalcifier'}), items_add=frozenset({'whipped/sour cream'}), confidence=0.22222222222222224, lift=5.084267753992525)]),\n",
       " RelationRecord(items=frozenset({'domestic eggs', 'rubbing alcohol'}), support=0.00013366303548753594, ordered_statistics=[OrderedStatistic(items_base=frozenset({'rubbing alcohol'}), items_add=frozenset({'domestic eggs'}), confidence=0.4, lift=10.784144144144145)]),\n",
       " RelationRecord(items=frozenset({'frankfurter', 'rubbing alcohol'}), support=0.00013366303548753594, ordered_statistics=[OrderedStatistic(items_base=frozenset({'rubbing alcohol'}), items_add=frozenset({'frankfurter'}), confidence=0.4, lift=10.593274336283187)])]"
      ]
     },
     "execution_count": 32,
     "metadata": {},
     "output_type": "execute_result"
    }
   ],
   "source": [
    "results[:10]"
   ]
  },
  {
   "cell_type": "code",
   "execution_count": 34,
   "metadata": {},
   "outputs": [],
   "source": [
    "#A means 'IF' and B means 'SO' in the rule\n",
    "A = [] \n",
    "B = [] \n",
    "support = []\n",
    "confidence = []\n",
    "lift = []\n",
    "\n",
    "for result in results:\n",
    "    s = result[1] \n",
    "    result_rules = result[2] \n",
    "    \n",
    "    for result_rule in result_rules: \n",
    "        a = list(result_rule[0]) \n",
    "        b = list(result_rule[1]) \n",
    "        c = result_rule[2] \n",
    "        l = result_rule[3] \n",
    "        #print(a ,' -- ', b, '--', c, '--', l)\n",
    "        \n",
    "        A.append(a)\n",
    "        B.append(b)\n",
    "        support.append(s)\n",
    "        confidence.append(c)\n",
    "        lift.append(l)"
   ]
  },
  {
   "cell_type": "code",
   "execution_count": 40,
   "metadata": {
    "scrolled": true
   },
   "outputs": [],
   "source": [
    "rules_df = pd.DataFrame({'A': A, 'B': B, 'Support': support,\n",
    "                         'Confidence': confidence, 'Lift':lift})"
   ]
  },
  {
   "cell_type": "code",
   "execution_count": 41,
   "metadata": {},
   "outputs": [
    {
     "data": {
      "text/html": [
       "<div>\n",
       "<style scoped>\n",
       "    .dataframe tbody tr th:only-of-type {\n",
       "        vertical-align: middle;\n",
       "    }\n",
       "\n",
       "    .dataframe tbody tr th {\n",
       "        vertical-align: top;\n",
       "    }\n",
       "\n",
       "    .dataframe thead th {\n",
       "        text-align: right;\n",
       "    }\n",
       "</style>\n",
       "<table border=\"1\" class=\"dataframe\">\n",
       "  <thead>\n",
       "    <tr style=\"text-align: right;\">\n",
       "      <th></th>\n",
       "      <th>A</th>\n",
       "      <th>B</th>\n",
       "      <th>Support</th>\n",
       "      <th>Confidence</th>\n",
       "      <th>Lift</th>\n",
       "    </tr>\n",
       "  </thead>\n",
       "  <tbody>\n",
       "    <tr>\n",
       "      <th>4136</th>\n",
       "      <td>[other vegetables, waffles, sausage]</td>\n",
       "      <td>[whole milk, prosecco]</td>\n",
       "      <td>0.000134</td>\n",
       "      <td>0.400000</td>\n",
       "      <td>2992.600000</td>\n",
       "    </tr>\n",
       "    <tr>\n",
       "      <th>4132</th>\n",
       "      <td>[whole milk, prosecco]</td>\n",
       "      <td>[other vegetables, waffles, sausage]</td>\n",
       "      <td>0.000134</td>\n",
       "      <td>1.000000</td>\n",
       "      <td>2992.600000</td>\n",
       "    </tr>\n",
       "    <tr>\n",
       "      <th>4129</th>\n",
       "      <td>[other vegetables, prosecco]</td>\n",
       "      <td>[whole milk, waffles, sausage]</td>\n",
       "      <td>0.000134</td>\n",
       "      <td>0.500000</td>\n",
       "      <td>1870.375000</td>\n",
       "    </tr>\n",
       "    <tr>\n",
       "      <th>4141</th>\n",
       "      <td>[whole milk, waffles, sausage]</td>\n",
       "      <td>[other vegetables, prosecco]</td>\n",
       "      <td>0.000134</td>\n",
       "      <td>0.500000</td>\n",
       "      <td>1870.375000</td>\n",
       "    </tr>\n",
       "    <tr>\n",
       "      <th>3317</th>\n",
       "      <td>[vinegar, whole milk]</td>\n",
       "      <td>[frankfurter, softener]</td>\n",
       "      <td>0.000134</td>\n",
       "      <td>0.250000</td>\n",
       "      <td>1246.916667</td>\n",
       "    </tr>\n",
       "    <tr>\n",
       "      <th>...</th>\n",
       "      <td>...</td>\n",
       "      <td>...</td>\n",
       "      <td>...</td>\n",
       "      <td>...</td>\n",
       "      <td>...</td>\n",
       "    </tr>\n",
       "    <tr>\n",
       "      <th>3847</th>\n",
       "      <td>[soda, whole milk, shopping bags]</td>\n",
       "      <td>[rolls/buns]</td>\n",
       "      <td>0.000134</td>\n",
       "      <td>0.222222</td>\n",
       "      <td>2.020116</td>\n",
       "    </tr>\n",
       "    <tr>\n",
       "      <th>3761</th>\n",
       "      <td>[sausage, whole milk, pork]</td>\n",
       "      <td>[rolls/buns]</td>\n",
       "      <td>0.000134</td>\n",
       "      <td>0.222222</td>\n",
       "      <td>2.020116</td>\n",
       "    </tr>\n",
       "    <tr>\n",
       "      <th>1531</th>\n",
       "      <td>[hamburger meat, pip fruit]</td>\n",
       "      <td>[rolls/buns]</td>\n",
       "      <td>0.000134</td>\n",
       "      <td>0.222222</td>\n",
       "      <td>2.020116</td>\n",
       "    </tr>\n",
       "    <tr>\n",
       "      <th>867</th>\n",
       "      <td>[frozen vegetables, chocolate]</td>\n",
       "      <td>[rolls/buns]</td>\n",
       "      <td>0.000134</td>\n",
       "      <td>0.222222</td>\n",
       "      <td>2.020116</td>\n",
       "    </tr>\n",
       "    <tr>\n",
       "      <th>848</th>\n",
       "      <td>[curd, chocolate]</td>\n",
       "      <td>[rolls/buns]</td>\n",
       "      <td>0.000134</td>\n",
       "      <td>0.222222</td>\n",
       "      <td>2.020116</td>\n",
       "    </tr>\n",
       "  </tbody>\n",
       "</table>\n",
       "<p>4186 rows × 5 columns</p>\n",
       "</div>"
      ],
      "text/plain": [
       "                                         A  \\\n",
       "4136  [other vegetables, waffles, sausage]   \n",
       "4132                [whole milk, prosecco]   \n",
       "4129          [other vegetables, prosecco]   \n",
       "4141        [whole milk, waffles, sausage]   \n",
       "3317                 [vinegar, whole milk]   \n",
       "...                                    ...   \n",
       "3847     [soda, whole milk, shopping bags]   \n",
       "3761           [sausage, whole milk, pork]   \n",
       "1531           [hamburger meat, pip fruit]   \n",
       "867         [frozen vegetables, chocolate]   \n",
       "848                      [curd, chocolate]   \n",
       "\n",
       "                                         B   Support  Confidence         Lift  \n",
       "4136                [whole milk, prosecco]  0.000134    0.400000  2992.600000  \n",
       "4132  [other vegetables, waffles, sausage]  0.000134    1.000000  2992.600000  \n",
       "4129        [whole milk, waffles, sausage]  0.000134    0.500000  1870.375000  \n",
       "4141          [other vegetables, prosecco]  0.000134    0.500000  1870.375000  \n",
       "3317               [frankfurter, softener]  0.000134    0.250000  1246.916667  \n",
       "...                                    ...       ...         ...          ...  \n",
       "3847                          [rolls/buns]  0.000134    0.222222     2.020116  \n",
       "3761                          [rolls/buns]  0.000134    0.222222     2.020116  \n",
       "1531                          [rolls/buns]  0.000134    0.222222     2.020116  \n",
       "867                           [rolls/buns]  0.000134    0.222222     2.020116  \n",
       "848                           [rolls/buns]  0.000134    0.222222     2.020116  \n",
       "\n",
       "[4186 rows x 5 columns]"
      ]
     },
     "execution_count": 41,
     "metadata": {},
     "output_type": "execute_result"
    }
   ],
   "source": [
    "#Analysing by the Lift value\n",
    "rules_df.sort_values(by = 'Lift', ascending=False)"
   ]
  },
  {
   "cell_type": "markdown",
   "metadata": {},
   "source": [
    "$ \\rightarrow $We could get an insigth from here by analysing all these rules. For example, we could make a sale including whole milk, prosecco, other vegetables, waffles and sausage, once these items are bought together with max confidence (1.0) and a high value from the Lift, which means that costumers that buy whole milk and prosecco, are 2992.6 times more likely to buy other vegetables, waffles and sausage.\n",
    "\n",
    "$ \\rightarrow $Another insight we could get is to organize the market shelves by placing these items closer together, once we know that costumers do associate them when they are doing groceries."
   ]
  },
  {
   "cell_type": "code",
   "execution_count": 39,
   "metadata": {},
   "outputs": [
    {
     "data": {
      "text/html": [
       "<div>\n",
       "<style scoped>\n",
       "    .dataframe tbody tr th:only-of-type {\n",
       "        vertical-align: middle;\n",
       "    }\n",
       "\n",
       "    .dataframe tbody tr th {\n",
       "        vertical-align: top;\n",
       "    }\n",
       "\n",
       "    .dataframe thead th {\n",
       "        text-align: right;\n",
       "    }\n",
       "</style>\n",
       "<table border=\"1\" class=\"dataframe\">\n",
       "  <thead>\n",
       "    <tr style=\"text-align: right;\">\n",
       "      <th></th>\n",
       "      <th>A</th>\n",
       "      <th>B</th>\n",
       "      <th>Support</th>\n",
       "      <th>Confidence</th>\n",
       "      <th>Lift</th>\n",
       "    </tr>\n",
       "  </thead>\n",
       "  <tbody>\n",
       "    <tr>\n",
       "      <th>2967</th>\n",
       "      <td>[specialty chocolate, whole milk, tropical fruit]</td>\n",
       "      <td>[citrus fruit]</td>\n",
       "      <td>0.000134</td>\n",
       "      <td>1.0</td>\n",
       "      <td>18.821384</td>\n",
       "    </tr>\n",
       "    <tr>\n",
       "      <th>2766</th>\n",
       "      <td>[curd, citrus fruit, dessert]</td>\n",
       "      <td>[other vegetables]</td>\n",
       "      <td>0.000134</td>\n",
       "      <td>1.0</td>\n",
       "      <td>8.189929</td>\n",
       "    </tr>\n",
       "    <tr>\n",
       "      <th>667</th>\n",
       "      <td>[dishes, cat food]</td>\n",
       "      <td>[canned beer]</td>\n",
       "      <td>0.000134</td>\n",
       "      <td>1.0</td>\n",
       "      <td>21.314815</td>\n",
       "    </tr>\n",
       "    <tr>\n",
       "      <th>2805</th>\n",
       "      <td>[dishes, frankfurter, whipped/sour cream]</td>\n",
       "      <td>[citrus fruit]</td>\n",
       "      <td>0.000134</td>\n",
       "      <td>1.0</td>\n",
       "      <td>18.821384</td>\n",
       "    </tr>\n",
       "    <tr>\n",
       "      <th>2802</th>\n",
       "      <td>[dishes, frankfurter, citrus fruit]</td>\n",
       "      <td>[whipped/sour cream]</td>\n",
       "      <td>0.000134</td>\n",
       "      <td>1.0</td>\n",
       "      <td>22.879205</td>\n",
       "    </tr>\n",
       "    <tr>\n",
       "      <th>...</th>\n",
       "      <td>...</td>\n",
       "      <td>...</td>\n",
       "      <td>...</td>\n",
       "      <td>...</td>\n",
       "      <td>...</td>\n",
       "    </tr>\n",
       "    <tr>\n",
       "      <th>930</th>\n",
       "      <td>[onions, citrus fruit]</td>\n",
       "      <td>[frozen vegetables]</td>\n",
       "      <td>0.000134</td>\n",
       "      <td>0.2</td>\n",
       "      <td>7.142243</td>\n",
       "    </tr>\n",
       "    <tr>\n",
       "      <th>211</th>\n",
       "      <td>[white bread, berries]</td>\n",
       "      <td>[soda]</td>\n",
       "      <td>0.000134</td>\n",
       "      <td>0.2</td>\n",
       "      <td>2.059601</td>\n",
       "    </tr>\n",
       "    <tr>\n",
       "      <th>926</th>\n",
       "      <td>[frankfurter, tropical fruit]</td>\n",
       "      <td>[citrus fruit]</td>\n",
       "      <td>0.000267</td>\n",
       "      <td>0.2</td>\n",
       "      <td>3.764277</td>\n",
       "    </tr>\n",
       "    <tr>\n",
       "      <th>922</th>\n",
       "      <td>[ice cream, citrus fruit]</td>\n",
       "      <td>[frankfurter]</td>\n",
       "      <td>0.000134</td>\n",
       "      <td>0.2</td>\n",
       "      <td>5.296637</td>\n",
       "    </tr>\n",
       "    <tr>\n",
       "      <th>1197</th>\n",
       "      <td>[dishes, pastry]</td>\n",
       "      <td>[napkins]</td>\n",
       "      <td>0.000134</td>\n",
       "      <td>0.2</td>\n",
       "      <td>9.041088</td>\n",
       "    </tr>\n",
       "  </tbody>\n",
       "</table>\n",
       "<p>4186 rows × 5 columns</p>\n",
       "</div>"
      ],
      "text/plain": [
       "                                                      A                     B  \\\n",
       "2967  [specialty chocolate, whole milk, tropical fruit]        [citrus fruit]   \n",
       "2766                      [curd, citrus fruit, dessert]    [other vegetables]   \n",
       "667                                  [dishes, cat food]         [canned beer]   \n",
       "2805          [dishes, frankfurter, whipped/sour cream]        [citrus fruit]   \n",
       "2802                [dishes, frankfurter, citrus fruit]  [whipped/sour cream]   \n",
       "...                                                 ...                   ...   \n",
       "930                              [onions, citrus fruit]   [frozen vegetables]   \n",
       "211                              [white bread, berries]                [soda]   \n",
       "926                       [frankfurter, tropical fruit]        [citrus fruit]   \n",
       "922                           [ice cream, citrus fruit]         [frankfurter]   \n",
       "1197                                   [dishes, pastry]             [napkins]   \n",
       "\n",
       "       Support  Confidence       Lift  \n",
       "2967  0.000134         1.0  18.821384  \n",
       "2766  0.000134         1.0   8.189929  \n",
       "667   0.000134         1.0  21.314815  \n",
       "2805  0.000134         1.0  18.821384  \n",
       "2802  0.000134         1.0  22.879205  \n",
       "...        ...         ...        ...  \n",
       "930   0.000134         0.2   7.142243  \n",
       "211   0.000134         0.2   2.059601  \n",
       "926   0.000267         0.2   3.764277  \n",
       "922   0.000134         0.2   5.296637  \n",
       "1197  0.000134         0.2   9.041088  \n",
       "\n",
       "[4186 rows x 5 columns]"
      ]
     },
     "execution_count": 39,
     "metadata": {},
     "output_type": "execute_result"
    }
   ],
   "source": [
    "#Anaylising by the Confidence value\n",
    "rules_df.sort_values(by = 'Confidence', ascending=False)"
   ]
  }
 ],
 "metadata": {
  "kernelspec": {
   "display_name": "Python 3",
   "language": "python",
   "name": "python3"
  },
  "language_info": {
   "codemirror_mode": {
    "name": "ipython",
    "version": 3
   },
   "file_extension": ".py",
   "mimetype": "text/x-python",
   "name": "python",
   "nbconvert_exporter": "python",
   "pygments_lexer": "ipython3",
   "version": "3.8.3"
  }
 },
 "nbformat": 4,
 "nbformat_minor": 4
}
